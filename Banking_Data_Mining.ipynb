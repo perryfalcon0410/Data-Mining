{
  "cells": [
    {
      "cell_type": "code",
      "execution_count": 54,
      "metadata": {
        "id": "_7hyGsF6vFmr"
      },
      "outputs": [],
      "source": [
        "import pandas as pd\n",
        "import numpy as np\n",
        "import seaborn as sns\n",
        "import matplotlib.pyplot as plt"
      ]
    },
    {
      "cell_type": "code",
      "execution_count": 55,
      "metadata": {
        "id": "VV654MYfvXOy"
      },
      "outputs": [],
      "source": [
        "# Importing dataframes\n",
        "train= pd.read_csv('train.csv',delimiter=';') #train dataset\n",
        "test= pd.read_csv('test.csv',delimiter=';') #Test dataset"
      ]
    },
    {
      "cell_type": "code",
      "execution_count": 55,
      "metadata": {
        "id": "BjS4r1ZP0h7W"
      },
      "outputs": [],
      "source": []
    },
    {
      "cell_type": "code",
      "execution_count": 56,
      "metadata": {
        "colab": {
          "base_uri": "https://localhost:8080/",
          "height": 487
        },
        "id": "KBNxcIpRw4BX",
        "outputId": "ca16b114-c848-439a-b418-025e89144289"
      },
      "outputs": [
        {
          "output_type": "execute_result",
          "data": {
            "text/plain": [
              "       age           job   marital  education default  balance housing loan  \\\n",
              "0       58    management   married   tertiary      no     2143     yes   no   \n",
              "1       44    technician    single  secondary      no       29     yes   no   \n",
              "2       33  entrepreneur   married  secondary      no        2     yes  yes   \n",
              "3       47   blue-collar   married    unknown      no     1506     yes   no   \n",
              "4       33       unknown    single    unknown      no        1      no   no   \n",
              "...    ...           ...       ...        ...     ...      ...     ...  ...   \n",
              "45206   51    technician   married   tertiary      no      825      no   no   \n",
              "45207   71       retired  divorced    primary      no     1729      no   no   \n",
              "45208   72       retired   married  secondary      no     5715      no   no   \n",
              "45209   57   blue-collar   married  secondary      no      668      no   no   \n",
              "45210   37  entrepreneur   married  secondary      no     2971      no   no   \n",
              "\n",
              "         contact  day month  duration  campaign  pdays  previous poutcome    y  \n",
              "0        unknown    5   may       261         1     -1         0  unknown   no  \n",
              "1        unknown    5   may       151         1     -1         0  unknown   no  \n",
              "2        unknown    5   may        76         1     -1         0  unknown   no  \n",
              "3        unknown    5   may        92         1     -1         0  unknown   no  \n",
              "4        unknown    5   may       198         1     -1         0  unknown   no  \n",
              "...          ...  ...   ...       ...       ...    ...       ...      ...  ...  \n",
              "45206   cellular   17   nov       977         3     -1         0  unknown  yes  \n",
              "45207   cellular   17   nov       456         2     -1         0  unknown  yes  \n",
              "45208   cellular   17   nov      1127         5    184         3  success  yes  \n",
              "45209  telephone   17   nov       508         4     -1         0  unknown   no  \n",
              "45210   cellular   17   nov       361         2    188        11    other   no  \n",
              "\n",
              "[45211 rows x 17 columns]"
            ],
            "text/html": [
              "\n",
              "  <div id=\"df-a670d9cb-7e03-4473-8f12-8fba06052902\">\n",
              "    <div class=\"colab-df-container\">\n",
              "      <div>\n",
              "<style scoped>\n",
              "    .dataframe tbody tr th:only-of-type {\n",
              "        vertical-align: middle;\n",
              "    }\n",
              "\n",
              "    .dataframe tbody tr th {\n",
              "        vertical-align: top;\n",
              "    }\n",
              "\n",
              "    .dataframe thead th {\n",
              "        text-align: right;\n",
              "    }\n",
              "</style>\n",
              "<table border=\"1\" class=\"dataframe\">\n",
              "  <thead>\n",
              "    <tr style=\"text-align: right;\">\n",
              "      <th></th>\n",
              "      <th>age</th>\n",
              "      <th>job</th>\n",
              "      <th>marital</th>\n",
              "      <th>education</th>\n",
              "      <th>default</th>\n",
              "      <th>balance</th>\n",
              "      <th>housing</th>\n",
              "      <th>loan</th>\n",
              "      <th>contact</th>\n",
              "      <th>day</th>\n",
              "      <th>month</th>\n",
              "      <th>duration</th>\n",
              "      <th>campaign</th>\n",
              "      <th>pdays</th>\n",
              "      <th>previous</th>\n",
              "      <th>poutcome</th>\n",
              "      <th>y</th>\n",
              "    </tr>\n",
              "  </thead>\n",
              "  <tbody>\n",
              "    <tr>\n",
              "      <th>0</th>\n",
              "      <td>58</td>\n",
              "      <td>management</td>\n",
              "      <td>married</td>\n",
              "      <td>tertiary</td>\n",
              "      <td>no</td>\n",
              "      <td>2143</td>\n",
              "      <td>yes</td>\n",
              "      <td>no</td>\n",
              "      <td>unknown</td>\n",
              "      <td>5</td>\n",
              "      <td>may</td>\n",
              "      <td>261</td>\n",
              "      <td>1</td>\n",
              "      <td>-1</td>\n",
              "      <td>0</td>\n",
              "      <td>unknown</td>\n",
              "      <td>no</td>\n",
              "    </tr>\n",
              "    <tr>\n",
              "      <th>1</th>\n",
              "      <td>44</td>\n",
              "      <td>technician</td>\n",
              "      <td>single</td>\n",
              "      <td>secondary</td>\n",
              "      <td>no</td>\n",
              "      <td>29</td>\n",
              "      <td>yes</td>\n",
              "      <td>no</td>\n",
              "      <td>unknown</td>\n",
              "      <td>5</td>\n",
              "      <td>may</td>\n",
              "      <td>151</td>\n",
              "      <td>1</td>\n",
              "      <td>-1</td>\n",
              "      <td>0</td>\n",
              "      <td>unknown</td>\n",
              "      <td>no</td>\n",
              "    </tr>\n",
              "    <tr>\n",
              "      <th>2</th>\n",
              "      <td>33</td>\n",
              "      <td>entrepreneur</td>\n",
              "      <td>married</td>\n",
              "      <td>secondary</td>\n",
              "      <td>no</td>\n",
              "      <td>2</td>\n",
              "      <td>yes</td>\n",
              "      <td>yes</td>\n",
              "      <td>unknown</td>\n",
              "      <td>5</td>\n",
              "      <td>may</td>\n",
              "      <td>76</td>\n",
              "      <td>1</td>\n",
              "      <td>-1</td>\n",
              "      <td>0</td>\n",
              "      <td>unknown</td>\n",
              "      <td>no</td>\n",
              "    </tr>\n",
              "    <tr>\n",
              "      <th>3</th>\n",
              "      <td>47</td>\n",
              "      <td>blue-collar</td>\n",
              "      <td>married</td>\n",
              "      <td>unknown</td>\n",
              "      <td>no</td>\n",
              "      <td>1506</td>\n",
              "      <td>yes</td>\n",
              "      <td>no</td>\n",
              "      <td>unknown</td>\n",
              "      <td>5</td>\n",
              "      <td>may</td>\n",
              "      <td>92</td>\n",
              "      <td>1</td>\n",
              "      <td>-1</td>\n",
              "      <td>0</td>\n",
              "      <td>unknown</td>\n",
              "      <td>no</td>\n",
              "    </tr>\n",
              "    <tr>\n",
              "      <th>4</th>\n",
              "      <td>33</td>\n",
              "      <td>unknown</td>\n",
              "      <td>single</td>\n",
              "      <td>unknown</td>\n",
              "      <td>no</td>\n",
              "      <td>1</td>\n",
              "      <td>no</td>\n",
              "      <td>no</td>\n",
              "      <td>unknown</td>\n",
              "      <td>5</td>\n",
              "      <td>may</td>\n",
              "      <td>198</td>\n",
              "      <td>1</td>\n",
              "      <td>-1</td>\n",
              "      <td>0</td>\n",
              "      <td>unknown</td>\n",
              "      <td>no</td>\n",
              "    </tr>\n",
              "    <tr>\n",
              "      <th>...</th>\n",
              "      <td>...</td>\n",
              "      <td>...</td>\n",
              "      <td>...</td>\n",
              "      <td>...</td>\n",
              "      <td>...</td>\n",
              "      <td>...</td>\n",
              "      <td>...</td>\n",
              "      <td>...</td>\n",
              "      <td>...</td>\n",
              "      <td>...</td>\n",
              "      <td>...</td>\n",
              "      <td>...</td>\n",
              "      <td>...</td>\n",
              "      <td>...</td>\n",
              "      <td>...</td>\n",
              "      <td>...</td>\n",
              "      <td>...</td>\n",
              "    </tr>\n",
              "    <tr>\n",
              "      <th>45206</th>\n",
              "      <td>51</td>\n",
              "      <td>technician</td>\n",
              "      <td>married</td>\n",
              "      <td>tertiary</td>\n",
              "      <td>no</td>\n",
              "      <td>825</td>\n",
              "      <td>no</td>\n",
              "      <td>no</td>\n",
              "      <td>cellular</td>\n",
              "      <td>17</td>\n",
              "      <td>nov</td>\n",
              "      <td>977</td>\n",
              "      <td>3</td>\n",
              "      <td>-1</td>\n",
              "      <td>0</td>\n",
              "      <td>unknown</td>\n",
              "      <td>yes</td>\n",
              "    </tr>\n",
              "    <tr>\n",
              "      <th>45207</th>\n",
              "      <td>71</td>\n",
              "      <td>retired</td>\n",
              "      <td>divorced</td>\n",
              "      <td>primary</td>\n",
              "      <td>no</td>\n",
              "      <td>1729</td>\n",
              "      <td>no</td>\n",
              "      <td>no</td>\n",
              "      <td>cellular</td>\n",
              "      <td>17</td>\n",
              "      <td>nov</td>\n",
              "      <td>456</td>\n",
              "      <td>2</td>\n",
              "      <td>-1</td>\n",
              "      <td>0</td>\n",
              "      <td>unknown</td>\n",
              "      <td>yes</td>\n",
              "    </tr>\n",
              "    <tr>\n",
              "      <th>45208</th>\n",
              "      <td>72</td>\n",
              "      <td>retired</td>\n",
              "      <td>married</td>\n",
              "      <td>secondary</td>\n",
              "      <td>no</td>\n",
              "      <td>5715</td>\n",
              "      <td>no</td>\n",
              "      <td>no</td>\n",
              "      <td>cellular</td>\n",
              "      <td>17</td>\n",
              "      <td>nov</td>\n",
              "      <td>1127</td>\n",
              "      <td>5</td>\n",
              "      <td>184</td>\n",
              "      <td>3</td>\n",
              "      <td>success</td>\n",
              "      <td>yes</td>\n",
              "    </tr>\n",
              "    <tr>\n",
              "      <th>45209</th>\n",
              "      <td>57</td>\n",
              "      <td>blue-collar</td>\n",
              "      <td>married</td>\n",
              "      <td>secondary</td>\n",
              "      <td>no</td>\n",
              "      <td>668</td>\n",
              "      <td>no</td>\n",
              "      <td>no</td>\n",
              "      <td>telephone</td>\n",
              "      <td>17</td>\n",
              "      <td>nov</td>\n",
              "      <td>508</td>\n",
              "      <td>4</td>\n",
              "      <td>-1</td>\n",
              "      <td>0</td>\n",
              "      <td>unknown</td>\n",
              "      <td>no</td>\n",
              "    </tr>\n",
              "    <tr>\n",
              "      <th>45210</th>\n",
              "      <td>37</td>\n",
              "      <td>entrepreneur</td>\n",
              "      <td>married</td>\n",
              "      <td>secondary</td>\n",
              "      <td>no</td>\n",
              "      <td>2971</td>\n",
              "      <td>no</td>\n",
              "      <td>no</td>\n",
              "      <td>cellular</td>\n",
              "      <td>17</td>\n",
              "      <td>nov</td>\n",
              "      <td>361</td>\n",
              "      <td>2</td>\n",
              "      <td>188</td>\n",
              "      <td>11</td>\n",
              "      <td>other</td>\n",
              "      <td>no</td>\n",
              "    </tr>\n",
              "  </tbody>\n",
              "</table>\n",
              "<p>45211 rows × 17 columns</p>\n",
              "</div>\n",
              "      <button class=\"colab-df-convert\" onclick=\"convertToInteractive('df-a670d9cb-7e03-4473-8f12-8fba06052902')\"\n",
              "              title=\"Convert this dataframe to an interactive table.\"\n",
              "              style=\"display:none;\">\n",
              "        \n",
              "  <svg xmlns=\"http://www.w3.org/2000/svg\" height=\"24px\"viewBox=\"0 0 24 24\"\n",
              "       width=\"24px\">\n",
              "    <path d=\"M0 0h24v24H0V0z\" fill=\"none\"/>\n",
              "    <path d=\"M18.56 5.44l.94 2.06.94-2.06 2.06-.94-2.06-.94-.94-2.06-.94 2.06-2.06.94zm-11 1L8.5 8.5l.94-2.06 2.06-.94-2.06-.94L8.5 2.5l-.94 2.06-2.06.94zm10 10l.94 2.06.94-2.06 2.06-.94-2.06-.94-.94-2.06-.94 2.06-2.06.94z\"/><path d=\"M17.41 7.96l-1.37-1.37c-.4-.4-.92-.59-1.43-.59-.52 0-1.04.2-1.43.59L10.3 9.45l-7.72 7.72c-.78.78-.78 2.05 0 2.83L4 21.41c.39.39.9.59 1.41.59.51 0 1.02-.2 1.41-.59l7.78-7.78 2.81-2.81c.8-.78.8-2.07 0-2.86zM5.41 20L4 18.59l7.72-7.72 1.47 1.35L5.41 20z\"/>\n",
              "  </svg>\n",
              "      </button>\n",
              "      \n",
              "  <style>\n",
              "    .colab-df-container {\n",
              "      display:flex;\n",
              "      flex-wrap:wrap;\n",
              "      gap: 12px;\n",
              "    }\n",
              "\n",
              "    .colab-df-convert {\n",
              "      background-color: #E8F0FE;\n",
              "      border: none;\n",
              "      border-radius: 50%;\n",
              "      cursor: pointer;\n",
              "      display: none;\n",
              "      fill: #1967D2;\n",
              "      height: 32px;\n",
              "      padding: 0 0 0 0;\n",
              "      width: 32px;\n",
              "    }\n",
              "\n",
              "    .colab-df-convert:hover {\n",
              "      background-color: #E2EBFA;\n",
              "      box-shadow: 0px 1px 2px rgba(60, 64, 67, 0.3), 0px 1px 3px 1px rgba(60, 64, 67, 0.15);\n",
              "      fill: #174EA6;\n",
              "    }\n",
              "\n",
              "    [theme=dark] .colab-df-convert {\n",
              "      background-color: #3B4455;\n",
              "      fill: #D2E3FC;\n",
              "    }\n",
              "\n",
              "    [theme=dark] .colab-df-convert:hover {\n",
              "      background-color: #434B5C;\n",
              "      box-shadow: 0px 1px 3px 1px rgba(0, 0, 0, 0.15);\n",
              "      filter: drop-shadow(0px 1px 2px rgba(0, 0, 0, 0.3));\n",
              "      fill: #FFFFFF;\n",
              "    }\n",
              "  </style>\n",
              "\n",
              "      <script>\n",
              "        const buttonEl =\n",
              "          document.querySelector('#df-a670d9cb-7e03-4473-8f12-8fba06052902 button.colab-df-convert');\n",
              "        buttonEl.style.display =\n",
              "          google.colab.kernel.accessAllowed ? 'block' : 'none';\n",
              "\n",
              "        async function convertToInteractive(key) {\n",
              "          const element = document.querySelector('#df-a670d9cb-7e03-4473-8f12-8fba06052902');\n",
              "          const dataTable =\n",
              "            await google.colab.kernel.invokeFunction('convertToInteractive',\n",
              "                                                     [key], {});\n",
              "          if (!dataTable) return;\n",
              "\n",
              "          const docLinkHtml = 'Like what you see? Visit the ' +\n",
              "            '<a target=\"_blank\" href=https://colab.research.google.com/notebooks/data_table.ipynb>data table notebook</a>'\n",
              "            + ' to learn more about interactive tables.';\n",
              "          element.innerHTML = '';\n",
              "          dataTable['output_type'] = 'display_data';\n",
              "          await google.colab.output.renderOutput(dataTable, element);\n",
              "          const docLink = document.createElement('div');\n",
              "          docLink.innerHTML = docLinkHtml;\n",
              "          element.appendChild(docLink);\n",
              "        }\n",
              "      </script>\n",
              "    </div>\n",
              "  </div>\n",
              "  "
            ]
          },
          "metadata": {},
          "execution_count": 56
        }
      ],
      "source": [
        "# Show Dataset\n",
        "train"
      ]
    },
    {
      "cell_type": "code",
      "execution_count": 57,
      "metadata": {
        "colab": {
          "base_uri": "https://localhost:8080/"
        },
        "id": "XsSuB6fDwHjo",
        "outputId": "e022d38e-1901-4604-f31a-d8d8fdb1b860"
      },
      "outputs": [
        {
          "output_type": "stream",
          "name": "stdout",
          "text": [
            "age          0\n",
            "job          0\n",
            "marital      0\n",
            "education    0\n",
            "default      0\n",
            "balance      0\n",
            "housing      0\n",
            "loan         0\n",
            "contact      0\n",
            "day          0\n",
            "month        0\n",
            "duration     0\n",
            "campaign     0\n",
            "pdays        0\n",
            "previous     0\n",
            "poutcome     0\n",
            "y            0\n",
            "dtype: int64\n"
          ]
        }
      ],
      "source": [
        "# Checking for null's\n",
        "\n",
        "print(train.isnull().sum(axis = 0))"
      ]
    },
    {
      "cell_type": "markdown",
      "metadata": {
        "id": "Q-pUPu-QwZXY"
      },
      "source": [
        "# EDA"
      ]
    },
    {
      "cell_type": "markdown",
      "metadata": {
        "id": "667zNFz6wiS0"
      },
      "source": [
        "Create Categories Column"
      ]
    },
    {
      "cell_type": "code",
      "execution_count": 58,
      "metadata": {
        "id": "voOpkEXFwpPv"
      },
      "outputs": [],
      "source": [
        "#Creating\n",
        "\n",
        "train['age_cat'] = pd.cut(train['age'],bins=8)"
      ]
    },
    {
      "cell_type": "code",
      "execution_count": 59,
      "metadata": {
        "id": "8UmZ5lziwuEc"
      },
      "outputs": [],
      "source": [
        "train['day_cat']=train['day'].astype(str)\n",
        "\n",
        "\n",
        "test['day_cat']=test['day'].astype(str)"
      ]
    },
    {
      "cell_type": "code",
      "execution_count": 60,
      "metadata": {
        "id": "7u6nFOmzwyIR"
      },
      "outputs": [],
      "source": [
        "train['duration_min']= train['duration']/60\n",
        "\n",
        "conditions =  [(train['duration_min']<1),\n",
        "              ((train['duration_min']>=1) & (train['duration_min']<2)),\n",
        "              ((train['duration_min']>=2) & (train['duration_min']<3)),\n",
        "              ((train['duration_min']>=3) & (train['duration_min']<4)),\n",
        "              ((train['duration_min']>=4) & (train['duration_min']<5)),\n",
        "              ((train['duration_min']>=5) & (train['duration_min']<6)),\n",
        "              ((train['duration_min']>=6) & (train['duration_min']<7)),\n",
        "              ((train['duration_min']>=7) & (train['duration_min']<8)),\n",
        "              ((train['duration_min']>=8) & (train['duration_min']<9)),\n",
        "              ((train['duration_min']>=9))]\n",
        "\n",
        "values = ['<1','1/2','2/3','3/4','4/5','5/6','6/7','7/8','8/9','>9']\n",
        "\n",
        "train['duration_cat'] = np.select(conditions, values)\n",
        "\n",
        "train.drop(columns='duration_min', inplace=True)"
      ]
    },
    {
      "cell_type": "code",
      "execution_count": 61,
      "metadata": {
        "id": "wP5ul-ZFxWjN"
      },
      "outputs": [],
      "source": [
        "conditions = [(train['balance'] < -2500), \n",
        "              ((train['balance']>=-2500) & (train['balance']<0)), \n",
        "              ((train['balance']>=0) & (train['balance']<100)),\n",
        "              ((train['balance']>=100) & (train['balance']<200)),\n",
        "              ((train['balance']>=200) & (train['balance']<300)),\n",
        "              ((train['balance']>=300) & (train['balance']<400)),\n",
        "              ((train['balance']>=400) & (train['balance']<500)),\n",
        "              ((train['balance']>=500) & (train['balance']<600)),\n",
        "              ((train['balance']>=600) & (train['balance']<700)),\n",
        "              ((train['balance']>=700) & (train['balance']<800)),\n",
        "              ((train['balance']>=800) & (train['balance']<900)),\n",
        "              ((train['balance']>=900) & (train['balance']<1000)),              \n",
        "              ((train['balance']>=1000) & (train['balance']<1500)),\n",
        "              ((train['balance']>=1500) & (train['balance']<2000)),\n",
        "              ((train['balance']>=2000) & (train['balance']<3000)),\n",
        "              ((train['balance']>=3000) & (train['balance']<4000)),\n",
        "              ((train['balance']>=4000) & (train['balance']<5000)),\n",
        "              ((train['balance']>=5000) & (train['balance']<10000)),\n",
        "              ((train['balance']>=10000))]           \n",
        "             \n",
        "\n",
        "values = ['<-2.5k','-2.5k/0','0/100','100/200','200/300','300/400','400/500','500/600','600/700','700/800','800/900','900/1k','1k/1.5k','1.5k/2k','2k/3k','3k/4k','4k/5k','5k/10k','>10k']\n",
        "\n",
        "train['balance_cat'] = np.select(conditions, values)"
      ]
    },
    {
      "cell_type": "code",
      "execution_count": 62,
      "metadata": {
        "id": "jpA_7n_1yYZW"
      },
      "outputs": [],
      "source": [
        "conditions = [(train['campaign'] ==1), \n",
        "              (train['campaign']==2),\n",
        "               (train['campaign']==3), \n",
        "              (train['campaign']==4),\n",
        "               (train['campaign']==5),\n",
        "              (train['campaign']==6),\n",
        "               (train['campaign']==7),\n",
        "              (train['campaign']==8),\n",
        "               (train['campaign']==9),\n",
        "              (train['campaign']==10),\n",
        "              ((train['campaign']>10)&(train['campaign']<15)),\n",
        "              ((train['campaign']>=15)&(train['campaign']<20)),\n",
        "              ((train['campaign']>=20)&(train['campaign']<25)),\n",
        "              ((train['campaign']>=25)&(train['campaign']<30)),\n",
        "              ((train['campaign']>=30)&(train['campaign']<35)),\n",
        "              ((train['campaign']>=35)&(train['campaign']<40)),              \n",
        "              (train['campaign']>=40)]           \n",
        "             \n",
        "\n",
        "values = ['1','2','3','4','5','6','7','8','9','10','10/15','15/20','20/25','25/30','30/35','35/40','>40']\n",
        "train['campaign_cat'] = np.select(conditions, values)"
      ]
    },
    {
      "cell_type": "code",
      "execution_count": 63,
      "metadata": {
        "id": "84kG_2Xaypeu"
      },
      "outputs": [],
      "source": [
        "conditions = [(train['pdays'] ==-1), \n",
        "              ((train['pdays']>0)&(train['pdays']<50)),\n",
        "              ((train['pdays']>=50)&(train['pdays']<100)),\n",
        "              ((train['pdays']>=100)&(train['pdays']<150)),\n",
        "              ((train['pdays']>=150)&(train['pdays']<200)),\n",
        "              ((train['pdays']>=200)&(train['pdays']<250)),\n",
        "              ((train['pdays']>=250)&(train['pdays']<300)),              \n",
        "              ((train['pdays']>=300)&(train['pdays']<350)), \n",
        "              ((train['pdays']>=350)&(train['pdays']<400)),\n",
        "              ((train['pdays']>=400)&(train['pdays']<450)),\n",
        "              ((train['pdays']>=450)&(train['pdays']<500)),\n",
        "              ((train['pdays']>=500)&(train['pdays']<550)),\n",
        "              (train['pdays']>=550)]\n",
        "             \n",
        "\n",
        "values = ['nc','0/50','50/100','100/150','150/200','200/250','250/300','300/350','350/400','400/450','450/500','500/550','>550']\n",
        "\n",
        "train['pdays_cat'] = np.select(conditions, values)\n",
        "\n",
        "\n",
        "conditions = [(test['pdays'] ==-1), \n",
        "              ((test['pdays']>0)&(test['pdays']<50)),\n",
        "              ((test['pdays']>=50)&(test['pdays']<100)),\n",
        "              ((test['pdays']>=100)&(test['pdays']<150)),\n",
        "              ((test['pdays']>=150)&(test['pdays']<200)),\n",
        "              ((test['pdays']>=200)&(test['pdays']<250)),\n",
        "              ((test['pdays']>=250)&(test['pdays']<300)),              \n",
        "              ((test['pdays']>=300)&(test['pdays']<350)), \n",
        "              ((test['pdays']>=350)&(test['pdays']<400)),\n",
        "              ((test['pdays']>=400)&(test['pdays']<450)),\n",
        "              ((test['pdays']>=450)&(test['pdays']<500)),\n",
        "              ((test['pdays']>=500)&(test['pdays']<550)),\n",
        "              ((test['pdays']>550))]\n",
        "             \n",
        "\n",
        "values = ['nc','0/50','50/100','100/150','150/200','200/250','250/300','300/350','350/400','400/450','450/500','500/550', '>550']\n",
        "\n",
        "test['pdays_cat'] = np.select(conditions, values)"
      ]
    },
    {
      "cell_type": "code",
      "execution_count": 64,
      "metadata": {
        "id": "sK0yvxOozAJm"
      },
      "outputs": [],
      "source": [
        "conditions = [(train['previous'] ==1), \n",
        "              (train['previous']==2),\n",
        "               (train['previous']==3), \n",
        "              (train['previous']==4),\n",
        "               (train['previous']==5),\n",
        "              (train['previous']==6),\n",
        "               (train['previous']==7),\n",
        "              (train['previous']==8),\n",
        "               (train['previous']==9),\n",
        "              (train['previous']==10),\n",
        "              ((train['previous']>10)&(train['previous']<15)),\n",
        "              ((train['previous']>=15)&(train['previous']<20)),\n",
        "              ((train['previous']>=20)&(train['previous']<25)),\n",
        "              ((train['previous']>=25)&(train['previous']<30)),\n",
        "              ((train['previous']>=30)&(train['previous']<35)),\n",
        "              ((train['previous']>=35)&(train['previous']<40)),              \n",
        "              (train['previous']>=40)]           \n",
        "             \n",
        "\n",
        "values = ['1','2','3','4','5','6','7','8','9','10','10/15','15/20','20/25','25/30','30/35','35/40','>40']\n",
        "\n",
        "train['previous_cat'] = np.select(conditions, values)"
      ]
    },
    {
      "cell_type": "code",
      "execution_count": 65,
      "metadata": {
        "id": "QwNC1oTRzLKa"
      },
      "outputs": [],
      "source": [
        "def cat(df,c):\n",
        "    ### This function prints the value_counts (%) and the categorical count graphs for a given categorical column C in a dataframe (df).\n",
        "    for i in c:\n",
        "        print('Information about', i)\n",
        "        print(round((df[i].value_counts(normalize=True) * 100),2))\n",
        "        sns.catplot(x = i, kind ='count', data = df, aspect = 8, height = 2, order=df[i].value_counts().index)\n",
        "        plt.show()    "
      ]
    },
    {
      "cell_type": "code",
      "execution_count": 66,
      "metadata": {
        "colab": {
          "base_uri": "https://localhost:8080/",
          "height": 1000
        },
        "id": "QfFtnIIDzV8F",
        "outputId": "72ca94a4-a647-4e30-91f3-d4b5f08bcdfd"
      },
      "outputs": [
        {
          "output_type": "stream",
          "name": "stdout",
          "text": [
            "Information about age_cat\n",
            "(27.625, 37.25]     38.40\n",
            "(37.25, 46.875]     25.50\n",
            "(46.875, 56.5]      20.24\n",
            "(56.5, 66.125]       7.60\n",
            "(17.923, 27.625]     6.75\n",
            "(66.125, 75.75]      0.94\n",
            "(75.75, 85.375]      0.52\n",
            "(85.375, 95.0]       0.06\n",
            "Name: age_cat, dtype: float64\n"
          ]
        },
        {
          "output_type": "display_data",
          "data": {
            "text/plain": [
              "<Figure size 1152x144 with 1 Axes>"
            ],
            "image/png": "[encoded data removed]"
          },
          "metadata": {
            "needs_background": "light"
          }
        },
        {
          "output_type": "stream",
          "name": "stdout",
          "text": [
            "Information about job\n",
            "blue-collar      21.53\n",
            "management       20.92\n",
            "technician       16.80\n",
            "admin.           11.44\n",
            "services          9.19\n",
            "retired           5.01\n",
            "self-employed     3.49\n",
            "entrepreneur      3.29\n",
            "unemployed        2.88\n",
            "housemaid         2.74\n",
            "student           2.07\n",
            "unknown           0.64\n",
            "Name: job, dtype: float64\n"
          ]
        },
        {
          "output_type": "display_data",
          "data": {
            "text/plain": [
              "<Figure size 1152x144 with 1 Axes>"
            ],
            "image/png": "[encoded data removed]"
          },
          "metadata": {
            "needs_background": "light"
          }
        },
        {
          "output_type": "stream",
          "name": "stdout",
          "text": [
            "Information about marital\n",
            "married     60.19\n",
            "single      28.29\n",
            "divorced    11.52\n",
            "Name: marital, dtype: float64\n"
          ]
        },
        {
          "output_type": "display_data",
          "data": {
            "text/plain": [
              "<Figure size 1152x144 with 1 Axes>"
            ],
            "image/png": "[encoded data removed]"
          },
          "metadata": {
            "needs_background": "light"
          }
        },
        {
          "output_type": "stream",
          "name": "stdout",
          "text": [
            "Information about education\n",
            "secondary    51.32\n",
            "tertiary     29.42\n",
            "primary      15.15\n",
            "unknown       4.11\n",
            "Name: education, dtype: float64\n"
          ]
        },
        {
          "output_type": "display_data",
          "data": {
            "text/plain": [
              "<Figure size 1152x144 with 1 Axes>"
            ],
            "image/png": "[encoded data removed]"
          },
          "metadata": {
            "needs_background": "light"
          }
        },
        {
          "output_type": "stream",
          "name": "stdout",
          "text": [
            "Information about default\n",
            "no     98.2\n",
            "yes     1.8\n",
            "Name: default, dtype: float64\n"
          ]
        },
        {
          "output_type": "display_data",
          "data": {
            "text/plain": [
              "<Figure size 1152x144 with 1 Axes>"
            ],
            "image/png": "[encoded data removed]"
          },
          "metadata": {
            "needs_background": "light"
          }
        },
        {
          "output_type": "stream",
          "name": "stdout",
          "text": [
            "Information about balance_cat\n",
            "0/100      19.18\n",
            "-2.5k/0     8.31\n",
            "1k/1.5k     8.27\n",
            "100/200     7.63\n",
            "200/300     6.69\n",
            "2k/3k       6.39\n",
            "300/400     5.84\n",
            "1.5k/2k     5.30\n",
            "400/500     4.62\n",
            "5k/10k      4.46\n",
            "500/600     4.16\n",
            "3k/4k       3.80\n",
            "600/700     3.51\n",
            "700/800     2.89\n",
            "800/900     2.49\n",
            "4k/5k       2.33\n",
            "900/1k      2.28\n",
            ">10k        1.83\n",
            "<-2.5k      0.02\n",
            "Name: balance_cat, dtype: float64\n"
          ]
        },
        {
          "output_type": "display_data",
          "data": {
            "text/plain": [
              "<Figure size 1152x144 with 1 Axes>"
            ],
            "image/png": "[encoded data removed]"
          },
          "metadata": {
            "needs_background": "light"
          }
        },
        {
          "output_type": "stream",
          "name": "stdout",
          "text": [
            "Information about housing\n",
            "yes    55.58\n",
            "no     44.42\n",
            "Name: housing, dtype: float64\n"
          ]
        },
        {
          "output_type": "display_data",
          "data": {
            "text/plain": [
              "<Figure size 1152x144 with 1 Axes>"
            ],
            "image/png": "[encoded data removed]"
          },
          "metadata": {
            "needs_background": "light"
          }
        },
        {
          "output_type": "stream",
          "name": "stdout",
          "text": [
            "Information about loan\n",
            "no     83.98\n",
            "yes    16.02\n",
            "Name: loan, dtype: float64\n"
          ]
        },
        {
          "output_type": "display_data",
          "data": {
            "text/plain": [
              "<Figure size 1152x144 with 1 Axes>"
            ],
            "image/png": "[encoded data removed]"
          },
          "metadata": {
            "needs_background": "light"
          }
        },
        {
          "output_type": "stream",
          "name": "stdout",
          "text": [
            "Information about contact\n",
            "cellular     64.77\n",
            "unknown      28.80\n",
            "telephone     6.43\n",
            "Name: contact, dtype: float64\n"
          ]
        },
        {
          "output_type": "display_data",
          "data": {
            "text/plain": [
              "<Figure size 1152x144 with 1 Axes>"
            ],
            "image/png": "[encoded data removed]"
          },
          "metadata": {
            "needs_background": "light"
          }
        },
        {
          "output_type": "stream",
          "name": "stdout",
          "text": [
            "Information about day_cat\n",
            "20    6.09\n",
            "18    5.10\n",
            "21    4.48\n",
            "17    4.29\n",
            "6     4.27\n",
            "5     4.22\n",
            "14    4.09\n",
            "8     4.07\n",
            "28    4.05\n",
            "7     4.02\n",
            "19    3.89\n",
            "29    3.86\n",
            "15    3.77\n",
            "12    3.55\n",
            "13    3.51\n",
            "30    3.46\n",
            "9     3.45\n",
            "11    3.27\n",
            "4     3.20\n",
            "16    3.13\n",
            "2     2.86\n",
            "27    2.48\n",
            "3     2.39\n",
            "26    2.29\n",
            "23    2.08\n",
            "22    2.00\n",
            "25    1.86\n",
            "31    1.42\n",
            "10    1.16\n",
            "24    0.99\n",
            "1     0.71\n",
            "Name: day_cat, dtype: float64\n"
          ]
        },
        {
          "output_type": "display_data",
          "data": {
            "text/plain": [
              "<Figure size 1152x144 with 1 Axes>"
            ],
            "image/png": "[encoded data removed]"
          },
          "metadata": {
            "needs_background": "light"
          }
        },
        {
          "output_type": "stream",
          "name": "stdout",
          "text": [
            "Information about month\n",
            "may    30.45\n",
            "jul    15.25\n",
            "aug    13.82\n",
            "jun    11.81\n",
            "nov     8.78\n",
            "apr     6.49\n",
            "feb     5.86\n",
            "jan     3.10\n",
            "oct     1.63\n",
            "sep     1.28\n",
            "mar     1.06\n",
            "dec     0.47\n",
            "Name: month, dtype: float64\n"
          ]
        },
        {
          "output_type": "display_data",
          "data": {
            "text/plain": [
              "<Figure size 1152x144 with 1 Axes>"
            ],
            "image/png": "[encoded data removed]"
          },
          "metadata": {
            "needs_background": "light"
          }
        },
        {
          "output_type": "stream",
          "name": "stdout",
          "text": [
            "Information about duration_cat\n",
            "1/2    20.46\n",
            "2/3    19.09\n",
            "3/4    13.41\n",
            "<1     10.31\n",
            ">9     10.30\n",
            "4/5     9.47\n",
            "5/6     6.47\n",
            "6/7     4.71\n",
            "7/8     3.32\n",
            "8/9     2.48\n",
            "Name: duration_cat, dtype: float64\n"
          ]
        },
        {
          "output_type": "display_data",
          "data": {
            "text/plain": [
              "<Figure size 1152x144 with 1 Axes>"
            ],
            "image/png": "[encoded data removed]"
          },
          "metadata": {
            "needs_background": "light"
          }
        },
        {
          "output_type": "stream",
          "name": "stdout",
          "text": [
            "Information about campaign_cat\n",
            "1        38.80\n",
            "2        27.66\n",
            "3        12.21\n",
            "4         7.79\n",
            "5         3.90\n",
            "6         2.86\n",
            "7         1.63\n",
            "10/15     1.29\n",
            "8         1.19\n",
            "15/20     0.72\n",
            "9         0.72\n",
            "10        0.59\n",
            "20/25     0.32\n",
            "25/30     0.17\n",
            "30/35     0.09\n",
            "35/40     0.03\n",
            ">40       0.03\n",
            "Name: campaign_cat, dtype: float64\n"
          ]
        },
        {
          "output_type": "display_data",
          "data": {
            "text/plain": [
              "<Figure size 1152x144 with 1 Axes>"
            ],
            "image/png": "[encoded data removed]"
          },
          "metadata": {
            "needs_background": "light"
          }
        },
        {
          "output_type": "stream",
          "name": "stdout",
          "text": [
            "Information about pdays_cat\n",
            "nc         81.74\n",
            "150/200     4.39\n",
            "300/350     2.57\n",
            "50/100      2.56\n",
            "350/400     2.43\n",
            "250/300     2.16\n",
            "100/150     1.98\n",
            "200/250     1.10\n",
            "0/50        0.55\n",
            ">550        0.16\n",
            "450/500     0.15\n",
            "400/450     0.13\n",
            "500/550     0.07\n",
            "Name: pdays_cat, dtype: float64\n"
          ]
        },
        {
          "output_type": "display_data",
          "data": {
            "text/plain": [
              "<Figure size 1152x144 with 1 Axes>"
            ],
            "image/png": "[encoded data removed]"
          },
          "metadata": {
            "needs_background": "light"
          }
        },
        {
          "output_type": "stream",
          "name": "stdout",
          "text": [
            "Information about previous_cat\n",
            "0        81.74\n",
            "1         6.13\n",
            "2         4.66\n",
            "3         2.53\n",
            "4         1.58\n",
            "5         1.02\n",
            "6         0.61\n",
            "7         0.45\n",
            "10/15     0.37\n",
            "8         0.29\n",
            "9         0.20\n",
            "10        0.15\n",
            "15/20     0.14\n",
            "20/25     0.07\n",
            "25/30     0.04\n",
            ">40       0.01\n",
            "35/40     0.01\n",
            "30/35     0.01\n",
            "Name: previous_cat, dtype: float64\n"
          ]
        },
        {
          "output_type": "display_data",
          "data": {
            "text/plain": [
              "<Figure size 1152x144 with 1 Axes>"
            ],
            "image/png": "[encoded data removed]"
          },
          "metadata": {
            "needs_background": "light"
          }
        },
        {
          "output_type": "stream",
          "name": "stdout",
          "text": [
            "Information about poutcome\n",
            "unknown    81.75\n",
            "failure    10.84\n",
            "other       4.07\n",
            "success     3.34\n",
            "Name: poutcome, dtype: float64\n"
          ]
        },
        {
          "output_type": "display_data",
          "data": {
            "text/plain": [
              "<Figure size 1152x144 with 1 Axes>"
            ],
            "image/png": "[encoded data removed]"
          },
          "metadata": {
            "needs_background": "light"
          }
        },
        {
          "output_type": "stream",
          "name": "stdout",
          "text": [
            "Information about y\n",
            "no     88.3\n",
            "yes    11.7\n",
            "Name: y, dtype: float64\n"
          ]
        },
        {
          "output_type": "display_data",
          "data": {
            "text/plain": [
              "<Figure size 1152x144 with 1 Axes>"
            ],
            "image/png": "[encoded data removed]"
          },
          "metadata": {
            "needs_background": "light"
          }
        }
      ],
      "source": [
        "cat(df=train, c=['age_cat','job','marital','education','default','balance_cat','housing','loan','contact','day_cat','month','duration_cat','campaign_cat','pdays_cat','previous_cat','poutcome','y'])"
      ]
    },
    {
      "cell_type": "code",
      "execution_count": 67,
      "metadata": {
        "id": "UPAbYLhy0_2i"
      },
      "outputs": [],
      "source": [
        "# Normalizing the train and test data with TRAINING mean and var.\n",
        "\n",
        "from sklearn.preprocessing import RobustScaler\n",
        "from sklearn.preprocessing import MinMaxScaler\n",
        "from sklearn import preprocessing\n",
        "\n",
        "for column in train.columns:\n",
        "    if train[column].dtype in ['int64', 'float64']:\n",
        "        \n",
        "        X = train[column].array.reshape(-1,1)\n",
        "        \n",
        "        # build the scaler model\n",
        "        scaler = MinMaxScaler()\n",
        "        \n",
        "        # fit using the train set\n",
        "        scaler.fit(X)\n",
        "\n",
        "        train[column]=scaler.transform(train[column].array.reshape(-1, 1)) # Apply to train\n",
        "        test[column]=scaler.transform(test[column].array.reshape(-1, 1)) # Apply to test\n",
        "        "
      ]
    },
    {
      "cell_type": "code",
      "execution_count": 68,
      "metadata": {
        "colab": {
          "base_uri": "https://localhost:8080/",
          "height": 300
        },
        "id": "bnpIiDyq1Kpt",
        "outputId": "f9a76137-902b-466d-8344-c04be2761d3c"
      },
      "outputs": [
        {
          "output_type": "execute_result",
          "data": {
            "text/plain": [
              "                age       balance           day      duration      campaign  \\\n",
              "count  45211.000000  45211.000000  45211.000000  45211.000000  45211.000000   \n",
              "mean       0.297873      0.085171      0.493547      0.052494      0.028449   \n",
              "std        0.137906      0.027643      0.277416      0.052364      0.049968   \n",
              "min        0.000000      0.000000      0.000000      0.000000      0.000000   \n",
              "25%        0.194805      0.073457      0.233333      0.020943      0.000000   \n",
              "50%        0.272727      0.076871      0.500000      0.036600      0.016129   \n",
              "75%        0.389610      0.085768      0.666667      0.064864      0.032258   \n",
              "max        1.000000      1.000000      1.000000      1.000000      1.000000   \n",
              "\n",
              "              pdays      previous  \n",
              "count  45211.000000  45211.000000  \n",
              "mean       0.047245      0.002110  \n",
              "std        0.114827      0.008376  \n",
              "min        0.000000      0.000000  \n",
              "25%        0.000000      0.000000  \n",
              "50%        0.000000      0.000000  \n",
              "75%        0.000000      0.000000  \n",
              "max        1.000000      1.000000  "
            ],
            "text/html": [
              "\n",
              "  <div id=\"df-da5b6165-b753-42b7-abfc-cd9e9b2df891\">\n",
              "    <div class=\"colab-df-container\">\n",
              "      <div>\n",
              "<style scoped>\n",
              "    .dataframe tbody tr th:only-of-type {\n",
              "        vertical-align: middle;\n",
              "    }\n",
              "\n",
              "    .dataframe tbody tr th {\n",
              "        vertical-align: top;\n",
              "    }\n",
              "\n",
              "    .dataframe thead th {\n",
              "        text-align: right;\n",
              "    }\n",
              "</style>\n",
              "<table border=\"1\" class=\"dataframe\">\n",
              "  <thead>\n",
              "    <tr style=\"text-align: right;\">\n",
              "      <th></th>\n",
              "      <th>age</th>\n",
              "      <th>balance</th>\n",
              "      <th>day</th>\n",
              "      <th>duration</th>\n",
              "      <th>campaign</th>\n",
              "      <th>pdays</th>\n",
              "      <th>previous</th>\n",
              "    </tr>\n",
              "  </thead>\n",
              "  <tbody>\n",
              "    <tr>\n",
              "      <th>count</th>\n",
              "      <td>45211.000000</td>\n",
              "      <td>45211.000000</td>\n",
              "      <td>45211.000000</td>\n",
              "      <td>45211.000000</td>\n",
              "      <td>45211.000000</td>\n",
              "      <td>45211.000000</td>\n",
              "      <td>45211.000000</td>\n",
              "    </tr>\n",
              "    <tr>\n",
              "      <th>mean</th>\n",
              "      <td>0.297873</td>\n",
              "      <td>0.085171</td>\n",
              "      <td>0.493547</td>\n",
              "      <td>0.052494</td>\n",
              "      <td>0.028449</td>\n",
              "      <td>0.047245</td>\n",
              "      <td>0.002110</td>\n",
              "    </tr>\n",
              "    <tr>\n",
              "      <th>std</th>\n",
              "      <td>0.137906</td>\n",
              "      <td>0.027643</td>\n",
              "      <td>0.277416</td>\n",
              "      <td>0.052364</td>\n",
              "      <td>0.049968</td>\n",
              "      <td>0.114827</td>\n",
              "      <td>0.008376</td>\n",
              "    </tr>\n",
              "    <tr>\n",
              "      <th>min</th>\n",
              "      <td>0.000000</td>\n",
              "      <td>0.000000</td>\n",
              "      <td>0.000000</td>\n",
              "      <td>0.000000</td>\n",
              "      <td>0.000000</td>\n",
              "      <td>0.000000</td>\n",
              "      <td>0.000000</td>\n",
              "    </tr>\n",
              "    <tr>\n",
              "      <th>25%</th>\n",
              "      <td>0.194805</td>\n",
              "      <td>0.073457</td>\n",
              "      <td>0.233333</td>\n",
              "      <td>0.020943</td>\n",
              "      <td>0.000000</td>\n",
              "      <td>0.000000</td>\n",
              "      <td>0.000000</td>\n",
              "    </tr>\n",
              "    <tr>\n",
              "      <th>50%</th>\n",
              "      <td>0.272727</td>\n",
              "      <td>0.076871</td>\n",
              "      <td>0.500000</td>\n",
              "      <td>0.036600</td>\n",
              "      <td>0.016129</td>\n",
              "      <td>0.000000</td>\n",
              "      <td>0.000000</td>\n",
              "    </tr>\n",
              "    <tr>\n",
              "      <th>75%</th>\n",
              "      <td>0.389610</td>\n",
              "      <td>0.085768</td>\n",
              "      <td>0.666667</td>\n",
              "      <td>0.064864</td>\n",
              "      <td>0.032258</td>\n",
              "      <td>0.000000</td>\n",
              "      <td>0.000000</td>\n",
              "    </tr>\n",
              "    <tr>\n",
              "      <th>max</th>\n",
              "      <td>1.000000</td>\n",
              "      <td>1.000000</td>\n",
              "      <td>1.000000</td>\n",
              "      <td>1.000000</td>\n",
              "      <td>1.000000</td>\n",
              "      <td>1.000000</td>\n",
              "      <td>1.000000</td>\n",
              "    </tr>\n",
              "  </tbody>\n",
              "</table>\n",
              "</div>\n",
              "      <button class=\"colab-df-convert\" onclick=\"convertToInteractive('df-da5b6165-b753-42b7-abfc-cd9e9b2df891')\"\n",
              "              title=\"Convert this dataframe to an interactive table.\"\n",
              "              style=\"display:none;\">\n",
              "        \n",
              "  <svg xmlns=\"http://www.w3.org/2000/svg\" height=\"24px\"viewBox=\"0 0 24 24\"\n",
              "       width=\"24px\">\n",
              "    <path d=\"M0 0h24v24H0V0z\" fill=\"none\"/>\n",
              "    <path d=\"M18.56 5.44l.94 2.06.94-2.06 2.06-.94-2.06-.94-.94-2.06-.94 2.06-2.06.94zm-11 1L8.5 8.5l.94-2.06 2.06-.94-2.06-.94L8.5 2.5l-.94 2.06-2.06.94zm10 10l.94 2.06.94-2.06 2.06-.94-2.06-.94-.94-2.06-.94 2.06-2.06.94z\"/><path d=\"M17.41 7.96l-1.37-1.37c-.4-.4-.92-.59-1.43-.59-.52 0-1.04.2-1.43.59L10.3 9.45l-7.72 7.72c-.78.78-.78 2.05 0 2.83L4 21.41c.39.39.9.59 1.41.59.51 0 1.02-.2 1.41-.59l7.78-7.78 2.81-2.81c.8-.78.8-2.07 0-2.86zM5.41 20L4 18.59l7.72-7.72 1.47 1.35L5.41 20z\"/>\n",
              "  </svg>\n",
              "      </button>\n",
              "      \n",
              "  <style>\n",
              "    .colab-df-container {\n",
              "      display:flex;\n",
              "      flex-wrap:wrap;\n",
              "      gap: 12px;\n",
              "    }\n",
              "\n",
              "    .colab-df-convert {\n",
              "      background-color: #E8F0FE;\n",
              "      border: none;\n",
              "      border-radius: 50%;\n",
              "      cursor: pointer;\n",
              "      display: none;\n",
              "      fill: #1967D2;\n",
              "      height: 32px;\n",
              "      padding: 0 0 0 0;\n",
              "      width: 32px;\n",
              "    }\n",
              "\n",
              "    .colab-df-convert:hover {\n",
              "      background-color: #E2EBFA;\n",
              "      box-shadow: 0px 1px 2px rgba(60, 64, 67, 0.3), 0px 1px 3px 1px rgba(60, 64, 67, 0.15);\n",
              "      fill: #174EA6;\n",
              "    }\n",
              "\n",
              "    [theme=dark] .colab-df-convert {\n",
              "      background-color: #3B4455;\n",
              "      fill: #D2E3FC;\n",
              "    }\n",
              "\n",
              "    [theme=dark] .colab-df-convert:hover {\n",
              "      background-color: #434B5C;\n",
              "      box-shadow: 0px 1px 3px 1px rgba(0, 0, 0, 0.15);\n",
              "      filter: drop-shadow(0px 1px 2px rgba(0, 0, 0, 0.3));\n",
              "      fill: #FFFFFF;\n",
              "    }\n",
              "  </style>\n",
              "\n",
              "      <script>\n",
              "        const buttonEl =\n",
              "          document.querySelector('#df-da5b6165-b753-42b7-abfc-cd9e9b2df891 button.colab-df-convert');\n",
              "        buttonEl.style.display =\n",
              "          google.colab.kernel.accessAllowed ? 'block' : 'none';\n",
              "\n",
              "        async function convertToInteractive(key) {\n",
              "          const element = document.querySelector('#df-da5b6165-b753-42b7-abfc-cd9e9b2df891');\n",
              "          const dataTable =\n",
              "            await google.colab.kernel.invokeFunction('convertToInteractive',\n",
              "                                                     [key], {});\n",
              "          if (!dataTable) return;\n",
              "\n",
              "          const docLinkHtml = 'Like what you see? Visit the ' +\n",
              "            '<a target=\"_blank\" href=https://colab.research.google.com/notebooks/data_table.ipynb>data table notebook</a>'\n",
              "            + ' to learn more about interactive tables.';\n",
              "          element.innerHTML = '';\n",
              "          dataTable['output_type'] = 'display_data';\n",
              "          await google.colab.output.renderOutput(dataTable, element);\n",
              "          const docLink = document.createElement('div');\n",
              "          docLink.innerHTML = docLinkHtml;\n",
              "          element.appendChild(docLink);\n",
              "        }\n",
              "      </script>\n",
              "    </div>\n",
              "  </div>\n",
              "  "
            ]
          },
          "metadata": {},
          "execution_count": 68
        }
      ],
      "source": [
        "train.describe()"
      ]
    },
    {
      "cell_type": "code",
      "execution_count": 69,
      "metadata": {
        "colab": {
          "base_uri": "https://localhost:8080/",
          "height": 300
        },
        "id": "hzRMOdGR1MSy",
        "outputId": "735f3438-02a4-42fd-cfef-23f9826df0b2"
      },
      "outputs": [
        {
          "output_type": "execute_result",
          "data": {
            "text/plain": [
              "               age      balance          day     duration     campaign  \\\n",
              "count  4521.000000  4521.000000  4521.000000  4521.000000  4521.000000   \n",
              "mean      0.300910     0.085719     0.497176     0.053672     0.028930   \n",
              "std       0.137353     0.027324     0.274922     0.052838     0.050158   \n",
              "min       0.012987     0.042725     0.000000     0.000813     0.000000   \n",
              "25%       0.194805     0.073430     0.266667     0.021147     0.000000   \n",
              "50%       0.272727     0.076834     0.500000     0.037617     0.016129   \n",
              "75%       0.402597     0.086240     0.666667     0.066897     0.032258   \n",
              "max       0.896104     0.719109     1.000000     0.615087     0.790323   \n",
              "\n",
              "             pdays     previous  \n",
              "count  4521.000000  4521.000000  \n",
              "mean      0.046751     0.001973  \n",
              "std       0.114818     0.006158  \n",
              "min       0.000000     0.000000  \n",
              "25%       0.000000     0.000000  \n",
              "50%       0.000000     0.000000  \n",
              "75%       0.000000     0.000000  \n",
              "max       1.000000     0.090909  "
            ],
            "text/html": [
              "\n",
              "  <div id=\"df-1319b2f2-9e84-4dda-817d-46ce6baa39b7\">\n",
              "    <div class=\"colab-df-container\">\n",
              "      <div>\n",
              "<style scoped>\n",
              "    .dataframe tbody tr th:only-of-type {\n",
              "        vertical-align: middle;\n",
              "    }\n",
              "\n",
              "    .dataframe tbody tr th {\n",
              "        vertical-align: top;\n",
              "    }\n",
              "\n",
              "    .dataframe thead th {\n",
              "        text-align: right;\n",
              "    }\n",
              "</style>\n",
              "<table border=\"1\" class=\"dataframe\">\n",
              "  <thead>\n",
              "    <tr style=\"text-align: right;\">\n",
              "      <th></th>\n",
              "      <th>age</th>\n",
              "      <th>balance</th>\n",
              "      <th>day</th>\n",
              "      <th>duration</th>\n",
              "      <th>campaign</th>\n",
              "      <th>pdays</th>\n",
              "      <th>previous</th>\n",
              "    </tr>\n",
              "  </thead>\n",
              "  <tbody>\n",
              "    <tr>\n",
              "      <th>count</th>\n",
              "      <td>4521.000000</td>\n",
              "      <td>4521.000000</td>\n",
              "      <td>4521.000000</td>\n",
              "      <td>4521.000000</td>\n",
              "      <td>4521.000000</td>\n",
              "      <td>4521.000000</td>\n",
              "      <td>4521.000000</td>\n",
              "    </tr>\n",
              "    <tr>\n",
              "      <th>mean</th>\n",
              "      <td>0.300910</td>\n",
              "      <td>0.085719</td>\n",
              "      <td>0.497176</td>\n",
              "      <td>0.053672</td>\n",
              "      <td>0.028930</td>\n",
              "      <td>0.046751</td>\n",
              "      <td>0.001973</td>\n",
              "    </tr>\n",
              "    <tr>\n",
              "      <th>std</th>\n",
              "      <td>0.137353</td>\n",
              "      <td>0.027324</td>\n",
              "      <td>0.274922</td>\n",
              "      <td>0.052838</td>\n",
              "      <td>0.050158</td>\n",
              "      <td>0.114818</td>\n",
              "      <td>0.006158</td>\n",
              "    </tr>\n",
              "    <tr>\n",
              "      <th>min</th>\n",
              "      <td>0.012987</td>\n",
              "      <td>0.042725</td>\n",
              "      <td>0.000000</td>\n",
              "      <td>0.000813</td>\n",
              "      <td>0.000000</td>\n",
              "      <td>0.000000</td>\n",
              "      <td>0.000000</td>\n",
              "    </tr>\n",
              "    <tr>\n",
              "      <th>25%</th>\n",
              "      <td>0.194805</td>\n",
              "      <td>0.073430</td>\n",
              "      <td>0.266667</td>\n",
              "      <td>0.021147</td>\n",
              "      <td>0.000000</td>\n",
              "      <td>0.000000</td>\n",
              "      <td>0.000000</td>\n",
              "    </tr>\n",
              "    <tr>\n",
              "      <th>50%</th>\n",
              "      <td>0.272727</td>\n",
              "      <td>0.076834</td>\n",
              "      <td>0.500000</td>\n",
              "      <td>0.037617</td>\n",
              "      <td>0.016129</td>\n",
              "      <td>0.000000</td>\n",
              "      <td>0.000000</td>\n",
              "    </tr>\n",
              "    <tr>\n",
              "      <th>75%</th>\n",
              "      <td>0.402597</td>\n",
              "      <td>0.086240</td>\n",
              "      <td>0.666667</td>\n",
              "      <td>0.066897</td>\n",
              "      <td>0.032258</td>\n",
              "      <td>0.000000</td>\n",
              "      <td>0.000000</td>\n",
              "    </tr>\n",
              "    <tr>\n",
              "      <th>max</th>\n",
              "      <td>0.896104</td>\n",
              "      <td>0.719109</td>\n",
              "      <td>1.000000</td>\n",
              "      <td>0.615087</td>\n",
              "      <td>0.790323</td>\n",
              "      <td>1.000000</td>\n",
              "      <td>0.090909</td>\n",
              "    </tr>\n",
              "  </tbody>\n",
              "</table>\n",
              "</div>\n",
              "      <button class=\"colab-df-convert\" onclick=\"convertToInteractive('df-1319b2f2-9e84-4dda-817d-46ce6baa39b7')\"\n",
              "              title=\"Convert this dataframe to an interactive table.\"\n",
              "              style=\"display:none;\">\n",
              "        \n",
              "  <svg xmlns=\"http://www.w3.org/2000/svg\" height=\"24px\"viewBox=\"0 0 24 24\"\n",
              "       width=\"24px\">\n",
              "    <path d=\"M0 0h24v24H0V0z\" fill=\"none\"/>\n",
              "    <path d=\"M18.56 5.44l.94 2.06.94-2.06 2.06-.94-2.06-.94-.94-2.06-.94 2.06-2.06.94zm-11 1L8.5 8.5l.94-2.06 2.06-.94-2.06-.94L8.5 2.5l-.94 2.06-2.06.94zm10 10l.94 2.06.94-2.06 2.06-.94-2.06-.94-.94-2.06-.94 2.06-2.06.94z\"/><path d=\"M17.41 7.96l-1.37-1.37c-.4-.4-.92-.59-1.43-.59-.52 0-1.04.2-1.43.59L10.3 9.45l-7.72 7.72c-.78.78-.78 2.05 0 2.83L4 21.41c.39.39.9.59 1.41.59.51 0 1.02-.2 1.41-.59l7.78-7.78 2.81-2.81c.8-.78.8-2.07 0-2.86zM5.41 20L4 18.59l7.72-7.72 1.47 1.35L5.41 20z\"/>\n",
              "  </svg>\n",
              "      </button>\n",
              "      \n",
              "  <style>\n",
              "    .colab-df-container {\n",
              "      display:flex;\n",
              "      flex-wrap:wrap;\n",
              "      gap: 12px;\n",
              "    }\n",
              "\n",
              "    .colab-df-convert {\n",
              "      background-color: #E8F0FE;\n",
              "      border: none;\n",
              "      border-radius: 50%;\n",
              "      cursor: pointer;\n",
              "      display: none;\n",
              "      fill: #1967D2;\n",
              "      height: 32px;\n",
              "      padding: 0 0 0 0;\n",
              "      width: 32px;\n",
              "    }\n",
              "\n",
              "    .colab-df-convert:hover {\n",
              "      background-color: #E2EBFA;\n",
              "      box-shadow: 0px 1px 2px rgba(60, 64, 67, 0.3), 0px 1px 3px 1px rgba(60, 64, 67, 0.15);\n",
              "      fill: #174EA6;\n",
              "    }\n",
              "\n",
              "    [theme=dark] .colab-df-convert {\n",
              "      background-color: #3B4455;\n",
              "      fill: #D2E3FC;\n",
              "    }\n",
              "\n",
              "    [theme=dark] .colab-df-convert:hover {\n",
              "      background-color: #434B5C;\n",
              "      box-shadow: 0px 1px 3px 1px rgba(0, 0, 0, 0.15);\n",
              "      filter: drop-shadow(0px 1px 2px rgba(0, 0, 0, 0.3));\n",
              "      fill: #FFFFFF;\n",
              "    }\n",
              "  </style>\n",
              "\n",
              "      <script>\n",
              "        const buttonEl =\n",
              "          document.querySelector('#df-1319b2f2-9e84-4dda-817d-46ce6baa39b7 button.colab-df-convert');\n",
              "        buttonEl.style.display =\n",
              "          google.colab.kernel.accessAllowed ? 'block' : 'none';\n",
              "\n",
              "        async function convertToInteractive(key) {\n",
              "          const element = document.querySelector('#df-1319b2f2-9e84-4dda-817d-46ce6baa39b7');\n",
              "          const dataTable =\n",
              "            await google.colab.kernel.invokeFunction('convertToInteractive',\n",
              "                                                     [key], {});\n",
              "          if (!dataTable) return;\n",
              "\n",
              "          const docLinkHtml = 'Like what you see? Visit the ' +\n",
              "            '<a target=\"_blank\" href=https://colab.research.google.com/notebooks/data_table.ipynb>data table notebook</a>'\n",
              "            + ' to learn more about interactive tables.';\n",
              "          element.innerHTML = '';\n",
              "          dataTable['output_type'] = 'display_data';\n",
              "          await google.colab.output.renderOutput(dataTable, element);\n",
              "          const docLink = document.createElement('div');\n",
              "          docLink.innerHTML = docLinkHtml;\n",
              "          element.appendChild(docLink);\n",
              "        }\n",
              "      </script>\n",
              "    </div>\n",
              "  </div>\n",
              "  "
            ]
          },
          "metadata": {},
          "execution_count": 69
        }
      ],
      "source": [
        "test.describe()"
      ]
    },
    {
      "cell_type": "markdown",
      "metadata": {
        "id": "4D08kqWh1ZQ2"
      },
      "source": [
        "Flagging Outliers"
      ]
    },
    {
      "cell_type": "code",
      "execution_count": 70,
      "metadata": {
        "colab": {
          "base_uri": "https://localhost:8080/"
        },
        "id": "BxpmhPUx1c6V",
        "outputId": "f11183a4-a4d7-4577-8259-31be7fb820af"
      },
      "outputs": [
        {
          "output_type": "stream",
          "name": "stdout",
          "text": [
            "0    44724\n",
            "1      487\n",
            "Name: out_age, dtype: int64\n",
            "0    40480\n",
            "1     4731\n",
            "Name: out_balance, dtype: int64\n",
            "0    41976\n",
            "1     3235\n",
            "Name: out_duration, dtype: int64\n",
            "0    42147\n",
            "1     3064\n",
            "Name: out_campaign, dtype: int64\n",
            "0    36954\n",
            "1     8257\n",
            "Name: out_previous, dtype: int64\n",
            "0    4477\n",
            "1      44\n",
            "Name: out_age, dtype: int64\n",
            "0    4015\n",
            "1     506\n",
            "Name: out_balance, dtype: int64\n",
            "0    4191\n",
            "1     330\n",
            "Name: out_duration, dtype: int64\n",
            "0    4203\n",
            "1     318\n",
            "Name: out_campaign, dtype: int64\n",
            "0    3705\n",
            "1     816\n",
            "Name: out_previous, dtype: int64\n"
          ]
        }
      ],
      "source": [
        "# Creating outlier column where has value 1 if the value is an outlier and 0 if the value is not an outlier.\n",
        "\n",
        "for column in ['age','balance','duration','campaign','previous']:\n",
        "    if train[column].dtype in ['int64', 'float64']:\n",
        "\n",
        "        Q1 = train[column].quantile(0.25)\n",
        "        Q3 = train[column].quantile(0.75)\n",
        "        IQR = Q3 - Q1\n",
        "\n",
        "        low= (Q1 - 1.5 * IQR)\n",
        "        high = (Q3 + 1.5 * IQR)\n",
        "\n",
        "        conditions = [ ((train[column] < low) | (train[column] > high) ) , ( (train[column] >= low) |  (train[column] <= high) ) ]         \n",
        "\n",
        "        values = [1,0]\n",
        "\n",
        "        train['out_'+str(column)] = np.select(conditions, values) \n",
        "\n",
        "        print(train['out_'+str(column)].value_counts(normalize=False))\n",
        "        \n",
        "        \n",
        "        \n",
        "for column in ['age','balance','duration','campaign','previous']:\n",
        "    if test[column].dtype in ['int64', 'float64']:\n",
        "\n",
        "        Q1 = test[column].quantile(0.25)\n",
        "        Q3 = test[column].quantile(0.75)\n",
        "        IQR = Q3 - Q1\n",
        "\n",
        "        low= (Q1 - 1.5 * IQR)\n",
        "        high = (Q3 + 1.5 * IQR)\n",
        "\n",
        "        conditions = [ ((test[column] < low) | (test[column] > high) ) , ( (test[column] >= low) |  (test[column] <= high) ) ]         \n",
        "\n",
        "        values = [1,0]\n",
        "\n",
        "        test['out_'+str(column)] = np.select(conditions, values) \n",
        "\n",
        "        print(test['out_'+str(column)].value_counts(normalize=False))"
      ]
    },
    {
      "cell_type": "markdown",
      "metadata": {
        "id": "mHGO5UEu1zB_"
      },
      "source": [
        "# Treat Missing Data"
      ]
    },
    {
      "cell_type": "code",
      "execution_count": 71,
      "metadata": {
        "id": "u8Au68kM12Pz"
      },
      "outputs": [],
      "source": [
        "# Creating a column that indentifies if the element was missing for each column with missing values\n",
        "\n",
        "col_missing = ['poutcome', 'contact', 'education', 'job']\n",
        "\n",
        "for col in col_missing:\n",
        "    conditions = [train[col]=='unknown',train[col]!='unknown']           \n",
        "    \n",
        "    values = [1,0]    \n",
        "    \n",
        "    train[col+'_was_missing'] = np.select(conditions, values)   \n",
        "    \n",
        "for col in col_missing:\n",
        "    conditions = [test[col]=='unknown',test[col]!='unknown']           \n",
        "    \n",
        "    values = [1,0]    \n",
        "    \n",
        "    test[col+'_was_missing'] = np.select(conditions, values) "
      ]
    },
    {
      "cell_type": "code",
      "execution_count": 72,
      "metadata": {
        "colab": {
          "base_uri": "https://localhost:8080/"
        },
        "id": "sSCkI4iS2EJ2",
        "outputId": "399c1d7e-f0a2-4ea8-f40c-27879ab882ff"
      },
      "outputs": [
        {
          "output_type": "stream",
          "name": "stdout",
          "text": [
            "The % of unknown in job is 0.64%\n",
            "The % of unknown in education is 4.11%\n",
            "The % of unknown in poutcome is 81.75%\n",
            "The % of unknown in contact is 28.80%\n"
          ]
        }
      ],
      "source": [
        "# We have 'unknown' data in ['poutcome', 'contact', 'education', 'job']\n",
        "\n",
        "j= len(train[train['job']=='unknown']) / train.shape[0]\n",
        "e= len(train[train['education']=='unknown']) / train.shape[0]\n",
        "p= len(train[train['poutcome']=='unknown']) / train.shape[0]\n",
        "c= len(train[train['contact']=='unknown']) / train.shape[0]\n",
        "\n",
        "\n",
        "print('The % of unknown in job is', \"{0:.2%}\".format(j))\n",
        "print('The % of unknown in education is', \"{0:.2%}\".format(e))\n",
        "print('The % of unknown in poutcome is', \"{0:.2%}\".format(p))\n",
        "print('The % of unknown in contact is', \"{0:.2%}\".format(c))"
      ]
    },
    {
      "cell_type": "markdown",
      "metadata": {
        "id": "vXoNAAQE3KNQ"
      },
      "source": [
        "Fix Job Unknown Data"
      ]
    },
    {
      "cell_type": "code",
      "execution_count": 73,
      "metadata": {
        "colab": {
          "base_uri": "https://localhost:8080/"
        },
        "id": "xPWleDvu3M-A",
        "outputId": "036cd873-5aa3-4e5e-cf1e-36299c2bb936"
      },
      "outputs": [
        {
          "output_type": "execute_result",
          "data": {
            "text/plain": [
              "unknown      127\n",
              "secondary     71\n",
              "primary       51\n",
              "tertiary      39\n",
              "Name: education, dtype: int64"
            ]
          },
          "metadata": {},
          "execution_count": 73
        }
      ],
      "source": [
        "train[train['job']=='unknown']['education'].value_counts()\n",
        "\n",
        "# The job will be matched with the education mode and the unknowns will be dropped."
      ]
    },
    {
      "cell_type": "code",
      "execution_count": 74,
      "metadata": {
        "id": "yT70e_yG3UF3"
      },
      "outputs": [],
      "source": [
        "indexNeg = train[(train['job']=='unknown') & (train['education']=='unknown')].index # Creating the set of rows to be dropped\n",
        "\n",
        "train.drop(indexNeg, inplace=True) # Droping the rows"
      ]
    },
    {
      "cell_type": "code",
      "execution_count": 75,
      "metadata": {
        "id": "xfayAj-G3Zc2"
      },
      "outputs": [],
      "source": [
        "indexNeg = test[(test['job']=='unknown') & (test['education']=='unknown')].index # Creating the set of rows to be dropped\n",
        "\n",
        "test.drop(indexNeg, inplace=True) # Droping the rows"
      ]
    },
    {
      "cell_type": "code",
      "execution_count": 76,
      "metadata": {
        "colab": {
          "base_uri": "https://localhost:8080/"
        },
        "id": "KSXR91zE3eGR",
        "outputId": "576cd08b-12e5-421e-948b-db04ea18cb68"
      },
      "outputs": [
        {
          "output_type": "stream",
          "name": "stdout",
          "text": [
            "Primary education JOB mode is:\n",
            "blue-collar    0.548533\n",
            "retired        0.116041\n",
            "housemaid      0.091519\n",
            "Name: job, dtype: float64\n",
            "Secondary education JOB mode is\n",
            "blue-collar    0.231489\n",
            "technician     0.225369\n",
            "admin.         0.181838\n",
            "Name: job, dtype: float64\n",
            "Tertiary education JOB mode is\n",
            "management       0.586497\n",
            "technician       0.147959\n",
            "self-employed    0.062627\n",
            "Name: job, dtype: float64\n"
          ]
        }
      ],
      "source": [
        "# Finding the mode's\n",
        "\n",
        "print('Primary education JOB mode is:')\n",
        "print(train[train['education']=='primary']['job'].value_counts(normalize=True).nlargest(3))\n",
        "\n",
        "print('Secondary education JOB mode is')\n",
        "print(train[train['education']=='secondary']['job'].value_counts(normalize=True).nlargest(3))\n",
        "\n",
        "print('Tertiary education JOB mode is')\n",
        "print(train[train['education']=='tertiary']['job'].value_counts(normalize=True).nlargest(3))"
      ]
    },
    {
      "cell_type": "code",
      "execution_count": 77,
      "metadata": {
        "id": "XlG_oqQI4VTr"
      },
      "outputs": [],
      "source": [
        "# We see that tertiary and primary educations have a majority JOB but secundary dont, we'll pick the secondary randomly the three largest presences.\n",
        "\n",
        "\n",
        "\n",
        "# TRAIN DATA\n",
        "\n",
        "train['job'] = np.where(((train.job == 'unknown')& (train.education =='primary')),'blue-collar',train.job)\n",
        "\n",
        "\n",
        "train['job'] = np.where(((train.job == 'unknown')& (train.education =='tertiary')),'management',train.job)\n",
        "\n",
        "import random\n",
        "\n",
        "secjobs=['blue-collar','technician','admin.']\n",
        "i=0\n",
        "while i <74:\n",
        "    p=random.choice(secjobs)\n",
        "    train['job'] = np.where(((train.job == 'unknown')&(train.education =='secondary')),p,train.job)\n",
        "    i=i+1\n",
        "    \n",
        "    \n",
        "    \n",
        "\n",
        "    \n",
        "# TEST DATA\n",
        "\n",
        "test['job'] = np.where(((test.job == 'unknown')& (test.education =='primary')),'blue-collar',test.job)\n",
        "\n",
        "\n",
        "test['job'] = np.where(((test.job == 'unknown')& (test.education =='tertiary')),'management',test.job)\n",
        "\n",
        "import random\n",
        "\n",
        "secjobs=['blue-collar','technician','admin.']\n",
        "i=0\n",
        "while i <74:\n",
        "    p=random.choice(secjobs)\n",
        "    test['job'] = np.where( ((test.job == 'unknown')&(test.education =='secondary')),p,test.job)\n",
        "    i=i+1"
      ]
    },
    {
      "cell_type": "markdown",
      "metadata": {
        "id": "xdoVj57s8clf"
      },
      "source": [
        "Fix Education unknown data"
      ]
    },
    {
      "cell_type": "code",
      "execution_count": 78,
      "metadata": {
        "colab": {
          "base_uri": "https://localhost:8080/"
        },
        "id": "HFSuDPa38IKB",
        "outputId": "a23fd589-9ea8-4ec7-ea38-890a7e3eedd3"
      },
      "outputs": [
        {
          "output_type": "execute_result",
          "data": {
            "text/plain": [
              "blue-collar      454\n",
              "technician       242\n",
              "management       242\n",
              "admin.           171\n",
              "student          163\n",
              "services         150\n",
              "retired          119\n",
              "entrepreneur      76\n",
              "housemaid         45\n",
              "self-employed     39\n",
              "unemployed        29\n",
              "Name: job, dtype: int64"
            ]
          },
          "metadata": {},
          "execution_count": 78
        }
      ],
      "source": [
        "train[train['education']=='unknown']['job'].value_counts()"
      ]
    },
    {
      "cell_type": "code",
      "execution_count": 79,
      "metadata": {
        "colab": {
          "base_uri": "https://localhost:8080/"
        },
        "id": "MOrqgBrp8r2g",
        "outputId": "4d41e42d-6925-47ec-d30e-0c3c3f743ee4"
      },
      "outputs": [
        {
          "output_type": "stream",
          "name": "stdout",
          "text": [
            "JOB Blue-Collar education mode is:\n",
            "secondary    0.549014\n",
            "primary      0.389349\n",
            "Name: education, dtype: float64\n",
            "JOB technician education mode is:\n",
            "secondary    0.691184\n",
            "tertiary     0.256651\n",
            "Name: education, dtype: float64\n",
            "JOB management education mode is:\n",
            "tertiary     0.825524\n",
            "secondary    0.118037\n",
            "Name: education, dtype: float64\n",
            "JOB admin education mode is:\n",
            "secondary    0.815896\n",
            "tertiary     0.110617\n",
            "Name: education, dtype: float64\n",
            "JOB student education mode is:\n",
            "secondary    0.541578\n",
            "tertiary     0.237740\n",
            "Name: education, dtype: float64\n",
            "JOB services education mode is:\n",
            "secondary    0.832210\n",
            "primary      0.083052\n",
            "Name: education, dtype: float64\n",
            "JOB retired education mode is:\n",
            "secondary    0.434629\n",
            "primary      0.351148\n",
            "Name: education, dtype: float64\n",
            "JOB entrepreneur education mode is:\n",
            "tertiary     0.461332\n",
            "secondary    0.364492\n",
            "Name: education, dtype: float64\n",
            "JOB housemaid education mode is:\n",
            "primary      0.505645\n",
            "secondary    0.318548\n",
            "Name: education, dtype: float64\n",
            "JOB self-employed education mode is:\n",
            "tertiary     0.527549\n",
            "secondary    0.365421\n",
            "Name: education, dtype: float64\n",
            "JOB unemployed education mode is:\n",
            "secondary    0.558711\n",
            "tertiary     0.221796\n",
            "Name: education, dtype: float64\n"
          ]
        }
      ],
      "source": [
        "# Finding the mode's\n",
        "\n",
        "print('JOB Blue-Collar education mode is:')\n",
        "print(train[train['job']=='blue-collar']['education'].value_counts(normalize=True).nlargest(2))\n",
        "\n",
        "print('JOB technician education mode is:')\n",
        "print(train[train['job']=='technician']['education'].value_counts(normalize=True).nlargest(2))\n",
        "\n",
        "print('JOB management education mode is:')\n",
        "print(train[train['job']=='management']['education'].value_counts(normalize=True).nlargest(2))\n",
        "\n",
        "print('JOB admin education mode is:')\n",
        "print(train[train['job']=='admin.']['education'].value_counts(normalize=True).nlargest(2))\n",
        "\n",
        "print('JOB student education mode is:')\n",
        "print(train[train['job']=='student']['education'].value_counts(normalize=True).nlargest(2))\n",
        "\n",
        "print('JOB services education mode is:')\n",
        "print(train[train['job']=='services']['education'].value_counts(normalize=True).nlargest(2))\n",
        "\n",
        "print('JOB retired education mode is:')\n",
        "print(train[train['job']=='retired']['education'].value_counts(normalize=True).nlargest(2))\n",
        "\n",
        "print('JOB entrepreneur education mode is:')\n",
        "print(train[train['job']=='entrepreneur']['education'].value_counts(normalize=True).nlargest(2))\n",
        "\n",
        "print('JOB housemaid education mode is:')\n",
        "print(train[train['job']=='housemaid']['education'].value_counts(normalize=True).nlargest(2))\n",
        "\n",
        "print('JOB self-employed education mode is:')\n",
        "print(train[train['job']=='self-employed']['education'].value_counts(normalize=True).nlargest(2))\n",
        "\n",
        "print('JOB unemployed education mode is:')\n",
        "print(train[train['job']=='unemployed']['education'].value_counts(normalize=True).nlargest(2))"
      ]
    },
    {
      "cell_type": "code",
      "execution_count": 80,
      "metadata": {
        "id": "hNKprpov9H-8"
      },
      "outputs": [],
      "source": [
        "# Using the Modes\n",
        "\n",
        "s=['blue-collar', 'technician', 'admin.' ,'student', 'education', 'retired', 'services' ,'unemployed']\n",
        "t=['management','entrepreneur','self-employed']\n",
        "\n",
        "# TRAIN DATA\n",
        "\n",
        "for job in s:\n",
        "    train['education'] = np.where( ((train.education == 'unknown')& (train.job ==job)),'secondary',train.education)\n",
        "    \n",
        "for job in t:\n",
        "    train['education'] = np.where( ((train.education == 'unknown')& (train.job ==job)),'tertiary',train.education)\n",
        "    \n",
        "train['education'] = np.where( ((train.education == 'unknown')& (train.job =='housemaid')),'primary',train.education)\n",
        "\n",
        "\n",
        "#TEST DATA\n",
        "\n",
        "for job in s:\n",
        "    test['education'] = np.where( ((test.education == 'unknown')& (test.job ==job)),'secondary',test.education)\n",
        "    \n",
        "for job in t:\n",
        "    test['education'] = np.where( ((test.education == 'unknown')& (test.job ==job)),'tertiary',test.education)\n",
        "    \n",
        "test['education'] = np.where( ((test.education == 'unknown')& (test.job =='housemaid')),'primary',test.education)"
      ]
    },
    {
      "cell_type": "markdown",
      "metadata": {
        "id": "3fwtR40t9Qph"
      },
      "source": [
        "Fix Contact unknown data"
      ]
    },
    {
      "cell_type": "code",
      "execution_count": 81,
      "metadata": {
        "colab": {
          "base_uri": "https://localhost:8080/"
        },
        "id": "Hb37IJu69TrF",
        "outputId": "1f081001-8dd3-4d45-d020-eb152bd3b795"
      },
      "outputs": [
        {
          "output_type": "execute_result",
          "data": {
            "text/plain": [
              "cellular     29236\n",
              "unknown      12966\n",
              "telephone     2882\n",
              "Name: contact, dtype: int64"
            ]
          },
          "metadata": {},
          "execution_count": 81
        }
      ],
      "source": [
        "train['contact'].value_counts()"
      ]
    },
    {
      "cell_type": "code",
      "execution_count": 82,
      "metadata": {
        "id": "rwfnpBZk9jTK"
      },
      "outputs": [],
      "source": [
        "#TRAIN\n",
        "\n",
        "train['contact'] = np.where( (train.contact == 'unknown'),'cellular',train.contact)\n",
        "\n",
        "#TEST\n",
        "\n",
        "test['contact'] = np.where( (test.contact == 'unknown'),'cellular',test.contact)"
      ]
    },
    {
      "cell_type": "code",
      "execution_count": 83,
      "metadata": {
        "colab": {
          "base_uri": "https://localhost:8080/"
        },
        "id": "yUN7Egs29n8N",
        "outputId": "aa246788-1c6d-4322-a548-3cdbc256685f"
      },
      "outputs": [
        {
          "output_type": "execute_result",
          "data": {
            "text/plain": [
              "cellular     42202\n",
              "telephone     2882\n",
              "Name: contact, dtype: int64"
            ]
          },
          "metadata": {},
          "execution_count": 83
        }
      ],
      "source": [
        "train['contact'].value_counts()"
      ]
    },
    {
      "cell_type": "markdown",
      "metadata": {
        "id": "ZFScaSbQ9sgL"
      },
      "source": [
        "Fix Poutcome unknown data"
      ]
    },
    {
      "cell_type": "code",
      "execution_count": 84,
      "metadata": {
        "colab": {
          "base_uri": "https://localhost:8080/"
        },
        "id": "_1RrDnpY9vOl",
        "outputId": "43a40c0a-f26e-4cf3-c1e4-12ead1080482"
      },
      "outputs": [
        {
          "output_type": "execute_result",
          "data": {
            "text/plain": [
              "unknown    81.72\n",
              "failure    10.86\n",
              "other       4.08\n",
              "success     3.34\n",
              "Name: poutcome, dtype: float64"
            ]
          },
          "metadata": {},
          "execution_count": 84
        }
      ],
      "source": [
        "round(train['poutcome'].value_counts(normalize=True)*100,2)"
      ]
    },
    {
      "cell_type": "code",
      "execution_count": 85,
      "metadata": {
        "id": "YUnoSheA945C"
      },
      "outputs": [],
      "source": [
        "# Since most of the poutcome is 'unknown' any attempt to replace them will bring a lot of BIAS so we'll discard the column\n",
        "\n",
        "train.drop(columns=['poutcome','poutcome_was_missing'],inplace=True)\n",
        "test.drop(columns=['poutcome','poutcome_was_missing'],inplace=True)"
      ]
    },
    {
      "cell_type": "code",
      "execution_count": 86,
      "metadata": {
        "id": "mHXAia28Lt1X"
      },
      "outputs": [],
      "source": [
        "# Day of the Month is not relevant for a model\n",
        "\n",
        "train.drop(columns=['day'],inplace=True)\n",
        "test.drop(columns=['day'],inplace=True)\n",
        "\n",
        "# Dropping the categorical columns we created. Except for 'pdayscat' and 'daycat', since both these features have numerical values that may influence badly the ML model.\n",
        "\n",
        "train['TARGET']=train['y']\n",
        "test['TARGET']=test['y']\n",
        "\n",
        "a= train['TARGET']\n",
        "b= test['TARGET']\n",
        "\n",
        "train.drop(columns=['TARGET','day_cat','y','age_cat','balance_cat','duration_cat','campaign_cat','pdays','previous_cat'],inplace=True)\n",
        "test.drop(columns=['TARGET','day_cat','y','pdays'],inplace=True)"
      ]
    },
    {
      "cell_type": "markdown",
      "metadata": {
        "id": "0dn-I1csMDNt"
      },
      "source": [
        "Encoding Categorical Variables"
      ]
    },
    {
      "cell_type": "code",
      "execution_count": 87,
      "metadata": {
        "colab": {
          "base_uri": "https://localhost:8080/"
        },
        "id": "V4w75Qm_MHEc",
        "outputId": "9aa43ab8-62e6-4183-b879-15e1de0a61c2"
      },
      "outputs": [
        {
          "output_type": "stream",
          "name": "stdout",
          "text": [
            "['age', 'balance', 'duration', 'campaign', 'previous', 'out_age', 'out_balance', 'out_duration', 'out_campaign', 'out_previous', 'contact_was_missing', 'education_was_missing', 'job_was_missing']\n"
          ]
        },
        {
          "output_type": "execute_result",
          "data": {
            "text/plain": [
              "Index(['age', 'balance', 'duration', 'campaign', 'previous', 'out_age',\n",
              "       'out_balance', 'out_duration', 'out_campaign', 'out_previous',\n",
              "       'contact_was_missing', 'education_was_missing', 'job_was_missing',\n",
              "       'job_admin.', 'job_blue-collar', 'job_entrepreneur', 'job_housemaid',\n",
              "       'job_management', 'job_retired', 'job_self-employed', 'job_services',\n",
              "       'job_student', 'job_technician', 'job_unemployed', 'marital_divorced',\n",
              "       'marital_married', 'marital_single', 'education_primary',\n",
              "       'education_secondary', 'education_tertiary', 'default_no',\n",
              "       'default_yes', 'housing_no', 'housing_yes', 'loan_no', 'loan_yes',\n",
              "       'contact_cellular', 'contact_telephone', 'month_apr', 'month_aug',\n",
              "       'month_dec', 'month_feb', 'month_jan', 'month_jul', 'month_jun',\n",
              "       'month_mar', 'month_may', 'month_nov', 'month_oct', 'month_sep',\n",
              "       'pdays_cat_0/50', 'pdays_cat_100/150', 'pdays_cat_150/200',\n",
              "       'pdays_cat_200/250', 'pdays_cat_250/300', 'pdays_cat_300/350',\n",
              "       'pdays_cat_350/400', 'pdays_cat_400/450', 'pdays_cat_450/500',\n",
              "       'pdays_cat_50/100', 'pdays_cat_500/550', 'pdays_cat_>550',\n",
              "       'pdays_cat_nc', 'TARGET'],\n",
              "      dtype='object')"
            ]
          },
          "metadata": {},
          "execution_count": 87
        }
      ],
      "source": [
        "train = train.reset_index(drop=True)\n",
        "\n",
        "from sklearn import preprocessing\n",
        "    \n",
        "def label_encoder(train,column):\n",
        "    le=preprocessing.LabelEncoder()\n",
        "    le.fit_transform(train[column])\n",
        "    ohe = preprocessing.OneHotEncoder()\n",
        "    temp_array= ohe.fit_transform(train[[column]]).toarray()\n",
        "    column_names = [column+\"_\"+str(m) for m in le.classes_]\n",
        "    return(pd.DataFrame(temp_array,columns=column_names))\n",
        "     \n",
        "numerical_variables = [col for col in train.columns if train[col].dtype in ['int64', 'float64']]\n",
        "\n",
        "print(numerical_variables)\n",
        "\n",
        "categorical_variables = [col for col in train.columns if train[col].dtype == 'object']\n",
        "\n",
        "new_df = train[numerical_variables]\n",
        "\n",
        "for column in categorical_variables:\n",
        "    new_df = pd.concat([new_df,label_encoder(train,column)],axis=1)\n",
        "        \n",
        "# Label Encoder Target\n",
        "\n",
        "le = preprocessing.LabelEncoder()\n",
        "le.fit(a)\n",
        "\n",
        "new_df['TARGET'] = le.transform(a)\n",
        "\n",
        "new_df.columns\n",
        "\n",
        "\n",
        "\n",
        "### Link to Reference code from Andrada Olteanu: https://www.kaggle.com/andradaolteanu/housing-prices-competition-iowa-dataset"
      ]
    },
    {
      "cell_type": "code",
      "execution_count": 88,
      "metadata": {
        "colab": {
          "base_uri": "https://localhost:8080/"
        },
        "id": "uYSiRFXLMpml",
        "outputId": "8edb4408-7397-428c-9739-02fb78f76e8a"
      },
      "outputs": [
        {
          "output_type": "execute_result",
          "data": {
            "text/plain": [
              "Index(['age', 'balance', 'duration', 'campaign', 'previous', 'out_age',\n",
              "       'out_balance', 'out_duration', 'out_campaign', 'out_previous',\n",
              "       'contact_was_missing', 'education_was_missing', 'job_was_missing',\n",
              "       'job_admin.', 'job_blue-collar', 'job_entrepreneur', 'job_housemaid',\n",
              "       'job_management', 'job_retired', 'job_self-employed', 'job_services',\n",
              "       'job_student', 'job_technician', 'job_unemployed', 'marital_divorced',\n",
              "       'marital_married', 'marital_single', 'education_primary',\n",
              "       'education_secondary', 'education_tertiary', 'default_no',\n",
              "       'default_yes', 'housing_no', 'housing_yes', 'loan_no', 'loan_yes',\n",
              "       'contact_cellular', 'contact_telephone', 'month_apr', 'month_aug',\n",
              "       'month_dec', 'month_feb', 'month_jan', 'month_jul', 'month_jun',\n",
              "       'month_mar', 'month_may', 'month_nov', 'month_oct', 'month_sep',\n",
              "       'pdays_cat_0/50', 'pdays_cat_100/150', 'pdays_cat_150/200',\n",
              "       'pdays_cat_200/250', 'pdays_cat_250/300', 'pdays_cat_300/350',\n",
              "       'pdays_cat_350/400', 'pdays_cat_400/450', 'pdays_cat_450/500',\n",
              "       'pdays_cat_50/100', 'pdays_cat_500/550', 'pdays_cat_>550',\n",
              "       'pdays_cat_nc', 'TARGET'],\n",
              "      dtype='object')"
            ]
          },
          "metadata": {},
          "execution_count": 88
        }
      ],
      "source": [
        "test = test.reset_index(drop=True)\n",
        "\n",
        "from sklearn import preprocessing\n",
        "    \n",
        "def label_encoder(test,column):\n",
        "    le=preprocessing.LabelEncoder()\n",
        "    le.fit_transform(test[column])\n",
        "    ohe = preprocessing.OneHotEncoder()\n",
        "    temp_array= ohe.fit_transform(test[[column]]).toarray()\n",
        "    column_names = [column+\"_\"+str(m) for m in le.classes_]\n",
        "    return(pd.DataFrame(temp_array,columns=column_names))\n",
        "     \n",
        "\n",
        "numerical_variables = [col for col in test.columns if test[col].dtype in ['int64', 'float64']]\n",
        "\n",
        "categorical_variables = [col for col in test.columns if test[col].dtype == 'object']\n",
        "\n",
        "new_test = test[numerical_variables]\n",
        "\n",
        "for column in categorical_variables:\n",
        "    new_test = pd.concat([new_test,label_encoder(test,column)],axis=1)\n",
        "    \n",
        "    \n",
        "# Label Encoder Target\n",
        "\n",
        "le = preprocessing.LabelEncoder()\n",
        "le.fit(b)\n",
        "\n",
        "new_test['TARGET'] = le.transform(b)\n",
        "\n",
        "new_test.columns\n",
        "\n",
        "## new_test is the TEST dataframe encoded.\n",
        "\n",
        "### Link to Reference code from Andrada Olteanu: https://www.kaggle.com/andradaolteanu/housing-prices-competition-iowa-dataset"
      ]
    },
    {
      "cell_type": "code",
      "execution_count": 89,
      "metadata": {
        "colab": {
          "base_uri": "https://localhost:8080/"
        },
        "id": "BECFM2GwM3dR",
        "outputId": "3c530d75-8cb6-43b3-d8f0-3cc85a842c19"
      },
      "outputs": [
        {
          "output_type": "stream",
          "name": "stdout",
          "text": [
            "(45084, 64)\n",
            "(4506, 64)\n"
          ]
        }
      ],
      "source": [
        "## train is the training dataframe encoded, test is the test dataframe encoded.\n",
        "\n",
        "train= new_df.copy()\n",
        "\n",
        "test= new_test.copy()\n",
        "\n",
        "print(train.shape)\n",
        "\n",
        "print(test.shape)"
      ]
    },
    {
      "cell_type": "code",
      "execution_count": 90,
      "metadata": {
        "colab": {
          "base_uri": "https://localhost:8080/",
          "height": 393
        },
        "id": "GmOF-eU8M-O6",
        "outputId": "a3ff6fc0-3e7b-4702-a1a4-c0a20dd59e13"
      },
      "outputs": [
        {
          "output_type": "execute_result",
          "data": {
            "text/plain": [
              "                age       balance      duration      campaign      previous  \\\n",
              "count  45084.000000  45084.000000  45084.000000  45084.000000  45084.000000   \n",
              "mean       0.297550      0.085158      0.052496      0.028424      0.002114   \n",
              "std        0.137791      0.027627      0.052376      0.049906      0.008386   \n",
              "min        0.000000      0.000000      0.000000      0.000000      0.000000   \n",
              "25%        0.194805      0.073457      0.020943      0.000000      0.000000   \n",
              "50%        0.272727      0.076871      0.036600      0.016129      0.000000   \n",
              "75%        0.389610      0.085732      0.064864      0.032258      0.000000   \n",
              "max        1.000000      1.000000      1.000000      1.000000      1.000000   \n",
              "\n",
              "            out_age   out_balance  out_duration  out_campaign  out_previous  \\\n",
              "count  45084.000000  45084.000000  45084.000000  45084.000000  45084.000000   \n",
              "mean       0.010691      0.104583      0.071555      0.067674      0.182903   \n",
              "std        0.102845      0.306018      0.257753      0.251188      0.386591   \n",
              "min        0.000000      0.000000      0.000000      0.000000      0.000000   \n",
              "25%        0.000000      0.000000      0.000000      0.000000      0.000000   \n",
              "50%        0.000000      0.000000      0.000000      0.000000      0.000000   \n",
              "75%        0.000000      0.000000      0.000000      0.000000      0.000000   \n",
              "max        1.000000      1.000000      1.000000      1.000000      1.000000   \n",
              "\n",
              "       ...  pdays_cat_250/300  pdays_cat_300/350  pdays_cat_350/400  \\\n",
              "count  ...       45084.000000       45084.000000       45084.000000   \n",
              "mean   ...           0.021648           0.025796           0.024399   \n",
              "std    ...           0.145535           0.158529           0.154286   \n",
              "min    ...           0.000000           0.000000           0.000000   \n",
              "25%    ...           0.000000           0.000000           0.000000   \n",
              "50%    ...           0.000000           0.000000           0.000000   \n",
              "75%    ...           0.000000           0.000000           0.000000   \n",
              "max    ...           1.000000           1.000000           1.000000   \n",
              "\n",
              "       pdays_cat_400/450  pdays_cat_450/500  pdays_cat_50/100  \\\n",
              "count       45084.000000       45084.000000      45084.000000   \n",
              "mean            0.001353           0.001442          0.025574   \n",
              "std             0.036759           0.037943          0.157864   \n",
              "min             0.000000           0.000000          0.000000   \n",
              "25%             0.000000           0.000000          0.000000   \n",
              "50%             0.000000           0.000000          0.000000   \n",
              "75%             0.000000           0.000000          0.000000   \n",
              "max             1.000000           1.000000          1.000000   \n",
              "\n",
              "       pdays_cat_500/550  pdays_cat_>550  pdays_cat_nc        TARGET  \n",
              "count       45084.000000    45084.000000  45084.000000  45084.000000  \n",
              "mean            0.000732        0.001619      0.817097      0.116915  \n",
              "std             0.027045        0.040207      0.386591      0.321323  \n",
              "min             0.000000        0.000000      0.000000      0.000000  \n",
              "25%             0.000000        0.000000      1.000000      0.000000  \n",
              "50%             0.000000        0.000000      1.000000      0.000000  \n",
              "75%             0.000000        0.000000      1.000000      0.000000  \n",
              "max             1.000000        1.000000      1.000000      1.000000  \n",
              "\n",
              "[8 rows x 64 columns]"
            ],
            "text/html": [
              "\n",
              "  <div id=\"df-ba9a73d9-7fe5-4009-bb43-5e7aec6cc4ac\">\n",
              "    <div class=\"colab-df-container\">\n",
              "      <div>\n",
              "<style scoped>\n",
              "    .dataframe tbody tr th:only-of-type {\n",
              "        vertical-align: middle;\n",
              "    }\n",
              "\n",
              "    .dataframe tbody tr th {\n",
              "        vertical-align: top;\n",
              "    }\n",
              "\n",
              "    .dataframe thead th {\n",
              "        text-align: right;\n",
              "    }\n",
              "</style>\n",
              "<table border=\"1\" class=\"dataframe\">\n",
              "  <thead>\n",
              "    <tr style=\"text-align: right;\">\n",
              "      <th></th>\n",
              "      <th>age</th>\n",
              "      <th>balance</th>\n",
              "      <th>duration</th>\n",
              "      <th>campaign</th>\n",
              "      <th>previous</th>\n",
              "      <th>out_age</th>\n",
              "      <th>out_balance</th>\n",
              "      <th>out_duration</th>\n",
              "      <th>out_campaign</th>\n",
              "      <th>out_previous</th>\n",
              "      <th>...</th>\n",
              "      <th>pdays_cat_250/300</th>\n",
              "      <th>pdays_cat_300/350</th>\n",
              "      <th>pdays_cat_350/400</th>\n",
              "      <th>pdays_cat_400/450</th>\n",
              "      <th>pdays_cat_450/500</th>\n",
              "      <th>pdays_cat_50/100</th>\n",
              "      <th>pdays_cat_500/550</th>\n",
              "      <th>pdays_cat_&gt;550</th>\n",
              "      <th>pdays_cat_nc</th>\n",
              "      <th>TARGET</th>\n",
              "    </tr>\n",
              "  </thead>\n",
              "  <tbody>\n",
              "    <tr>\n",
              "      <th>count</th>\n",
              "      <td>45084.000000</td>\n",
              "      <td>45084.000000</td>\n",
              "      <td>45084.000000</td>\n",
              "      <td>45084.000000</td>\n",
              "      <td>45084.000000</td>\n",
              "      <td>45084.000000</td>\n",
              "      <td>45084.000000</td>\n",
              "      <td>45084.000000</td>\n",
              "      <td>45084.000000</td>\n",
              "      <td>45084.000000</td>\n",
              "      <td>...</td>\n",
              "      <td>45084.000000</td>\n",
              "      <td>45084.000000</td>\n",
              "      <td>45084.000000</td>\n",
              "      <td>45084.000000</td>\n",
              "      <td>45084.000000</td>\n",
              "      <td>45084.000000</td>\n",
              "      <td>45084.000000</td>\n",
              "      <td>45084.000000</td>\n",
              "      <td>45084.000000</td>\n",
              "      <td>45084.000000</td>\n",
              "    </tr>\n",
              "    <tr>\n",
              "      <th>mean</th>\n",
              "      <td>0.297550</td>\n",
              "      <td>0.085158</td>\n",
              "      <td>0.052496</td>\n",
              "      <td>0.028424</td>\n",
              "      <td>0.002114</td>\n",
              "      <td>0.010691</td>\n",
              "      <td>0.104583</td>\n",
              "      <td>0.071555</td>\n",
              "      <td>0.067674</td>\n",
              "      <td>0.182903</td>\n",
              "      <td>...</td>\n",
              "      <td>0.021648</td>\n",
              "      <td>0.025796</td>\n",
              "      <td>0.024399</td>\n",
              "      <td>0.001353</td>\n",
              "      <td>0.001442</td>\n",
              "      <td>0.025574</td>\n",
              "      <td>0.000732</td>\n",
              "      <td>0.001619</td>\n",
              "      <td>0.817097</td>\n",
              "      <td>0.116915</td>\n",
              "    </tr>\n",
              "    <tr>\n",
              "      <th>std</th>\n",
              "      <td>0.137791</td>\n",
              "      <td>0.027627</td>\n",
              "      <td>0.052376</td>\n",
              "      <td>0.049906</td>\n",
              "      <td>0.008386</td>\n",
              "      <td>0.102845</td>\n",
              "      <td>0.306018</td>\n",
              "      <td>0.257753</td>\n",
              "      <td>0.251188</td>\n",
              "      <td>0.386591</td>\n",
              "      <td>...</td>\n",
              "      <td>0.145535</td>\n",
              "      <td>0.158529</td>\n",
              "      <td>0.154286</td>\n",
              "      <td>0.036759</td>\n",
              "      <td>0.037943</td>\n",
              "      <td>0.157864</td>\n",
              "      <td>0.027045</td>\n",
              "      <td>0.040207</td>\n",
              "      <td>0.386591</td>\n",
              "      <td>0.321323</td>\n",
              "    </tr>\n",
              "    <tr>\n",
              "      <th>min</th>\n",
              "      <td>0.000000</td>\n",
              "      <td>0.000000</td>\n",
              "      <td>0.000000</td>\n",
              "      <td>0.000000</td>\n",
              "      <td>0.000000</td>\n",
              "      <td>0.000000</td>\n",
              "      <td>0.000000</td>\n",
              "      <td>0.000000</td>\n",
              "      <td>0.000000</td>\n",
              "      <td>0.000000</td>\n",
              "      <td>...</td>\n",
              "      <td>0.000000</td>\n",
              "      <td>0.000000</td>\n",
              "      <td>0.000000</td>\n",
              "      <td>0.000000</td>\n",
              "      <td>0.000000</td>\n",
              "      <td>0.000000</td>\n",
              "      <td>0.000000</td>\n",
              "      <td>0.000000</td>\n",
              "      <td>0.000000</td>\n",
              "      <td>0.000000</td>\n",
              "    </tr>\n",
              "    <tr>\n",
              "      <th>25%</th>\n",
              "      <td>0.194805</td>\n",
              "      <td>0.073457</td>\n",
              "      <td>0.020943</td>\n",
              "      <td>0.000000</td>\n",
              "      <td>0.000000</td>\n",
              "      <td>0.000000</td>\n",
              "      <td>0.000000</td>\n",
              "      <td>0.000000</td>\n",
              "      <td>0.000000</td>\n",
              "      <td>0.000000</td>\n",
              "      <td>...</td>\n",
              "      <td>0.000000</td>\n",
              "      <td>0.000000</td>\n",
              "      <td>0.000000</td>\n",
              "      <td>0.000000</td>\n",
              "      <td>0.000000</td>\n",
              "      <td>0.000000</td>\n",
              "      <td>0.000000</td>\n",
              "      <td>0.000000</td>\n",
              "      <td>1.000000</td>\n",
              "      <td>0.000000</td>\n",
              "    </tr>\n",
              "    <tr>\n",
              "      <th>50%</th>\n",
              "      <td>0.272727</td>\n",
              "      <td>0.076871</td>\n",
              "      <td>0.036600</td>\n",
              "      <td>0.016129</td>\n",
              "      <td>0.000000</td>\n",
              "      <td>0.000000</td>\n",
              "      <td>0.000000</td>\n",
              "      <td>0.000000</td>\n",
              "      <td>0.000000</td>\n",
              "      <td>0.000000</td>\n",
              "      <td>...</td>\n",
              "      <td>0.000000</td>\n",
              "      <td>0.000000</td>\n",
              "      <td>0.000000</td>\n",
              "      <td>0.000000</td>\n",
              "      <td>0.000000</td>\n",
              "      <td>0.000000</td>\n",
              "      <td>0.000000</td>\n",
              "      <td>0.000000</td>\n",
              "      <td>1.000000</td>\n",
              "      <td>0.000000</td>\n",
              "    </tr>\n",
              "    <tr>\n",
              "      <th>75%</th>\n",
              "      <td>0.389610</td>\n",
              "      <td>0.085732</td>\n",
              "      <td>0.064864</td>\n",
              "      <td>0.032258</td>\n",
              "      <td>0.000000</td>\n",
              "      <td>0.000000</td>\n",
              "      <td>0.000000</td>\n",
              "      <td>0.000000</td>\n",
              "      <td>0.000000</td>\n",
              "      <td>0.000000</td>\n",
              "      <td>...</td>\n",
              "      <td>0.000000</td>\n",
              "      <td>0.000000</td>\n",
              "      <td>0.000000</td>\n",
              "      <td>0.000000</td>\n",
              "      <td>0.000000</td>\n",
              "      <td>0.000000</td>\n",
              "      <td>0.000000</td>\n",
              "      <td>0.000000</td>\n",
              "      <td>1.000000</td>\n",
              "      <td>0.000000</td>\n",
              "    </tr>\n",
              "    <tr>\n",
              "      <th>max</th>\n",
              "      <td>1.000000</td>\n",
              "      <td>1.000000</td>\n",
              "      <td>1.000000</td>\n",
              "      <td>1.000000</td>\n",
              "      <td>1.000000</td>\n",
              "      <td>1.000000</td>\n",
              "      <td>1.000000</td>\n",
              "      <td>1.000000</td>\n",
              "      <td>1.000000</td>\n",
              "      <td>1.000000</td>\n",
              "      <td>...</td>\n",
              "      <td>1.000000</td>\n",
              "      <td>1.000000</td>\n",
              "      <td>1.000000</td>\n",
              "      <td>1.000000</td>\n",
              "      <td>1.000000</td>\n",
              "      <td>1.000000</td>\n",
              "      <td>1.000000</td>\n",
              "      <td>1.000000</td>\n",
              "      <td>1.000000</td>\n",
              "      <td>1.000000</td>\n",
              "    </tr>\n",
              "  </tbody>\n",
              "</table>\n",
              "<p>8 rows × 64 columns</p>\n",
              "</div>\n",
              "      <button class=\"colab-df-convert\" onclick=\"convertToInteractive('df-ba9a73d9-7fe5-4009-bb43-5e7aec6cc4ac')\"\n",
              "              title=\"Convert this dataframe to an interactive table.\"\n",
              "              style=\"display:none;\">\n",
              "        \n",
              "  <svg xmlns=\"http://www.w3.org/2000/svg\" height=\"24px\"viewBox=\"0 0 24 24\"\n",
              "       width=\"24px\">\n",
              "    <path d=\"M0 0h24v24H0V0z\" fill=\"none\"/>\n",
              "    <path d=\"M18.56 5.44l.94 2.06.94-2.06 2.06-.94-2.06-.94-.94-2.06-.94 2.06-2.06.94zm-11 1L8.5 8.5l.94-2.06 2.06-.94-2.06-.94L8.5 2.5l-.94 2.06-2.06.94zm10 10l.94 2.06.94-2.06 2.06-.94-2.06-.94-.94-2.06-.94 2.06-2.06.94z\"/><path d=\"M17.41 7.96l-1.37-1.37c-.4-.4-.92-.59-1.43-.59-.52 0-1.04.2-1.43.59L10.3 9.45l-7.72 7.72c-.78.78-.78 2.05 0 2.83L4 21.41c.39.39.9.59 1.41.59.51 0 1.02-.2 1.41-.59l7.78-7.78 2.81-2.81c.8-.78.8-2.07 0-2.86zM5.41 20L4 18.59l7.72-7.72 1.47 1.35L5.41 20z\"/>\n",
              "  </svg>\n",
              "      </button>\n",
              "      \n",
              "  <style>\n",
              "    .colab-df-container {\n",
              "      display:flex;\n",
              "      flex-wrap:wrap;\n",
              "      gap: 12px;\n",
              "    }\n",
              "\n",
              "    .colab-df-convert {\n",
              "      background-color: #E8F0FE;\n",
              "      border: none;\n",
              "      border-radius: 50%;\n",
              "      cursor: pointer;\n",
              "      display: none;\n",
              "      fill: #1967D2;\n",
              "      height: 32px;\n",
              "      padding: 0 0 0 0;\n",
              "      width: 32px;\n",
              "    }\n",
              "\n",
              "    .colab-df-convert:hover {\n",
              "      background-color: #E2EBFA;\n",
              "      box-shadow: 0px 1px 2px rgba(60, 64, 67, 0.3), 0px 1px 3px 1px rgba(60, 64, 67, 0.15);\n",
              "      fill: #174EA6;\n",
              "    }\n",
              "\n",
              "    [theme=dark] .colab-df-convert {\n",
              "      background-color: #3B4455;\n",
              "      fill: #D2E3FC;\n",
              "    }\n",
              "\n",
              "    [theme=dark] .colab-df-convert:hover {\n",
              "      background-color: #434B5C;\n",
              "      box-shadow: 0px 1px 3px 1px rgba(0, 0, 0, 0.15);\n",
              "      filter: drop-shadow(0px 1px 2px rgba(0, 0, 0, 0.3));\n",
              "      fill: #FFFFFF;\n",
              "    }\n",
              "  </style>\n",
              "\n",
              "      <script>\n",
              "        const buttonEl =\n",
              "          document.querySelector('#df-ba9a73d9-7fe5-4009-bb43-5e7aec6cc4ac button.colab-df-convert');\n",
              "        buttonEl.style.display =\n",
              "          google.colab.kernel.accessAllowed ? 'block' : 'none';\n",
              "\n",
              "        async function convertToInteractive(key) {\n",
              "          const element = document.querySelector('#df-ba9a73d9-7fe5-4009-bb43-5e7aec6cc4ac');\n",
              "          const dataTable =\n",
              "            await google.colab.kernel.invokeFunction('convertToInteractive',\n",
              "                                                     [key], {});\n",
              "          if (!dataTable) return;\n",
              "\n",
              "          const docLinkHtml = 'Like what you see? Visit the ' +\n",
              "            '<a target=\"_blank\" href=https://colab.research.google.com/notebooks/data_table.ipynb>data table notebook</a>'\n",
              "            + ' to learn more about interactive tables.';\n",
              "          element.innerHTML = '';\n",
              "          dataTable['output_type'] = 'display_data';\n",
              "          await google.colab.output.renderOutput(dataTable, element);\n",
              "          const docLink = document.createElement('div');\n",
              "          docLink.innerHTML = docLinkHtml;\n",
              "          element.appendChild(docLink);\n",
              "        }\n",
              "      </script>\n",
              "    </div>\n",
              "  </div>\n",
              "  "
            ]
          },
          "metadata": {},
          "execution_count": 90
        }
      ],
      "source": [
        "train.describe()"
      ]
    },
    {
      "cell_type": "code",
      "execution_count": 91,
      "metadata": {
        "colab": {
          "base_uri": "https://localhost:8080/",
          "height": 386
        },
        "id": "8GHCtlMtNAgk",
        "outputId": "a956d5f4-0555-48d6-c2cd-ab27a92de041"
      },
      "outputs": [
        {
          "output_type": "execute_result",
          "data": {
            "text/plain": [
              "<seaborn.axisgrid.FacetGrid at 0x7f3adcb792e0>"
            ]
          },
          "metadata": {},
          "execution_count": 91
        },
        {
          "output_type": "display_data",
          "data": {
            "text/plain": [
              "<Figure size 360x360 with 1 Axes>"
            ],
            "image/png": "[encoded data removed]"
          },
          "metadata": {
            "needs_background": "light"
          }
        }
      ],
      "source": [
        "sns.catplot(data=train, x='TARGET', kind ='count')"
      ]
    },
    {
      "cell_type": "code",
      "execution_count": 92,
      "metadata": {
        "colab": {
          "base_uri": "https://localhost:8080/"
        },
        "id": "ZcczsYTONkaz",
        "outputId": "e65eaeaa-df3c-4559-a210-0a0442e67dd3"
      },
      "outputs": [
        {
          "output_type": "execute_result",
          "data": {
            "text/plain": [
              "pdays_cat_nc          -0.166943\n",
              "contact_was_missing   -0.150511\n",
              "housing_yes           -0.139272\n",
              "month_may             -0.102540\n",
              "campaign              -0.073086\n",
              "                         ...   \n",
              "out_previous           0.166943\n",
              "pdays_cat_50/100       0.186806\n",
              "out_duration           0.340086\n",
              "duration               0.394545\n",
              "TARGET                 1.000000\n",
              "Name: TARGET, Length: 64, dtype: float64"
            ]
          },
          "metadata": {},
          "execution_count": 92
        }
      ],
      "source": [
        "# Find correlations with the target and sort\n",
        "correlations = train.corr()['TARGET'].sort_values()\n",
        "\n",
        "# Display correlations\n",
        "correlations"
      ]
    },
    {
      "cell_type": "markdown",
      "metadata": {
        "id": "qP6RcjTklHCc"
      },
      "source": [
        "#Cross Validation"
      ]
    },
    {
      "cell_type": "code",
      "execution_count": 93,
      "metadata": {
        "id": "zgMbR50Bmal0"
      },
      "outputs": [],
      "source": [
        "from sklearn.linear_model import LogisticRegression\n",
        "from sklearn.svm import SVC\n",
        "from sklearn.ensemble import RandomForestClassifier"
      ]
    },
    {
      "cell_type": "code",
      "execution_count": 94,
      "metadata": {
        "id": "BFHZN843OE6b"
      },
      "outputs": [],
      "source": [
        "models = [LogisticRegression(solver='liblinear') ,SVC(gamma='auto'),RandomForestClassifier()] # Models insert here"
      ]
    },
    {
      "cell_type": "code",
      "execution_count": 95,
      "metadata": {
        "id": "BeP0e0wyN2Aq"
      },
      "outputs": [],
      "source": [
        "Y_train = train['TARGET']\n",
        "X_train = train.drop(columns=['TARGET'], axis=1)\n",
        "X_test = test.drop(columns=['TARGET'])\n",
        "Y_test = test['TARGET']"
      ]
    },
    {
      "cell_type": "code",
      "execution_count": 96,
      "metadata": {
        "id": "Gb9jU9PkOYMs"
      },
      "outputs": [],
      "source": [
        "#Using stratified Kfold due to class imbalance\n",
        "\n",
        "from sklearn import model_selection\n",
        "def model_train(model, x, y):\n",
        "    kfold = model_selection.StratifiedKFold(n_splits=10)\n",
        "    pred = model_selection.cross_val_score(model, x, y, cv=kfold, scoring='accuracy')\n",
        "    cv_mean = pred.mean()\n",
        "    \n",
        "    print('Model:',model)\n",
        "    \n",
        "    print('CV mean: %0.3f' % (cv_mean))    "
      ]
    },
    {
      "cell_type": "code",
      "execution_count": 97,
      "metadata": {
        "colab": {
          "base_uri": "https://localhost:8080/"
        },
        "id": "fHxVhFHRObQW",
        "outputId": "93070be6-2404-4cb7-b5b9-6c6c78670368"
      },
      "outputs": [
        {
          "output_type": "stream",
          "name": "stdout",
          "text": [
            "Model: LogisticRegression(solver='liblinear')\n",
            "CV mean: 0.806\n",
            "Model: SVC(gamma='auto')\n",
            "CV mean: 0.791\n",
            "Model: RandomForestClassifier()\n",
            "CV mean: 0.770\n"
          ]
        }
      ],
      "source": [
        "for model in models:\n",
        "    model_train(model, X_train, Y_train)"
      ]
    },
    {
      "cell_type": "markdown",
      "metadata": {
        "id": "xQpdX2K7kbgT"
      },
      "source": [
        "#Balancing Class with SMOTE"
      ]
    },
    {
      "cell_type": "code",
      "execution_count": 98,
      "metadata": {
        "colab": {
          "base_uri": "https://localhost:8080/"
        },
        "id": "qMbW_bjckfQY",
        "outputId": "33dcbbfa-c65d-42c8-dcac-2e7d69fe6ae0"
      },
      "outputs": [
        {
          "output_type": "stream",
          "name": "stdout",
          "text": [
            "The ratio Yes/No is 0.132 Yes to one No or for each Yes there is 7.548 No's\n"
          ]
        }
      ],
      "source": [
        "# Finding the RATIO of Imbalance of classes in our training data set\n",
        "\n",
        "dfo= pd.read_csv('train.csv',delimiter=';') #Train dataset\n",
        "\n",
        "a= len(dfo[dfo['y']=='yes'])/len(dfo[dfo['y']=='no'])\n",
        "\n",
        "print(\"The ratio Yes/No is\",round(a,3),\"Yes to one No or for each Yes there is\",round(1/a,3),\"No's\")"
      ]
    },
    {
      "cell_type": "code",
      "execution_count": 99,
      "metadata": {
        "colab": {
          "base_uri": "https://localhost:8080/",
          "height": 487
        },
        "id": "h4cB-Z4UkyMg",
        "outputId": "21d2f16b-e78d-4361-fedd-19959ff2a3c3"
      },
      "outputs": [
        {
          "output_type": "execute_result",
          "data": {
            "text/plain": [
              "            age   balance  duration  campaign  previous  out_age  out_balance  \\\n",
              "0      0.519481  0.092259  0.053070  0.000000  0.000000        0            0   \n",
              "1      0.337662  0.073067  0.030704  0.000000  0.000000        0            0   \n",
              "2      0.194805  0.072822  0.015453  0.000000  0.000000        0            0   \n",
              "3      0.376623  0.086476  0.018707  0.000000  0.000000        0            0   \n",
              "4      0.220779  0.074901  0.028264  0.000000  0.000000        0            0   \n",
              "...         ...       ...       ...       ...       ...      ...          ...   \n",
              "45079  0.428571  0.080293  0.198658  0.032258  0.000000        0            0   \n",
              "45080  0.688312  0.088501  0.092721  0.016129  0.000000        1            0   \n",
              "45081  0.701299  0.124689  0.229158  0.064516  0.010909        1            1   \n",
              "45082  0.506494  0.078868  0.103294  0.048387  0.000000        0            0   \n",
              "45083  0.246753  0.099777  0.073404  0.016129  0.040000        0            0   \n",
              "\n",
              "       out_duration  out_campaign  out_previous  ...  pdays_cat_250/300  \\\n",
              "0                 0             0             0  ...                0.0   \n",
              "1                 0             0             0  ...                0.0   \n",
              "2                 0             0             0  ...                0.0   \n",
              "3                 0             0             0  ...                0.0   \n",
              "4                 0             0             0  ...                0.0   \n",
              "...             ...           ...           ...  ...                ...   \n",
              "45079             1             0             0  ...                0.0   \n",
              "45080             0             0             0  ...                0.0   \n",
              "45081             1             0             1  ...                0.0   \n",
              "45082             0             0             0  ...                0.0   \n",
              "45083             0             0             1  ...                0.0   \n",
              "\n",
              "       pdays_cat_300/350  pdays_cat_350/400  pdays_cat_400/450  \\\n",
              "0                    0.0                0.0                0.0   \n",
              "1                    0.0                0.0                0.0   \n",
              "2                    0.0                0.0                0.0   \n",
              "3                    0.0                0.0                0.0   \n",
              "4                    0.0                0.0                0.0   \n",
              "...                  ...                ...                ...   \n",
              "45079                0.0                0.0                0.0   \n",
              "45080                0.0                0.0                0.0   \n",
              "45081                0.0                0.0                0.0   \n",
              "45082                0.0                0.0                0.0   \n",
              "45083                0.0                0.0                0.0   \n",
              "\n",
              "       pdays_cat_450/500  pdays_cat_50/100  pdays_cat_500/550  pdays_cat_>550  \\\n",
              "0                    0.0               0.0                0.0             0.0   \n",
              "1                    0.0               0.0                0.0             0.0   \n",
              "2                    0.0               0.0                0.0             0.0   \n",
              "3                    0.0               0.0                0.0             0.0   \n",
              "4                    0.0               0.0                0.0             0.0   \n",
              "...                  ...               ...                ...             ...   \n",
              "45079                0.0               0.0                0.0             0.0   \n",
              "45080                0.0               0.0                0.0             0.0   \n",
              "45081                0.0               0.0                0.0             0.0   \n",
              "45082                0.0               0.0                0.0             0.0   \n",
              "45083                0.0               0.0                0.0             0.0   \n",
              "\n",
              "       pdays_cat_nc  TARGET  \n",
              "0               1.0       0  \n",
              "1               1.0       0  \n",
              "2               1.0       0  \n",
              "3               1.0       0  \n",
              "4               1.0       0  \n",
              "...             ...     ...  \n",
              "45079           1.0       1  \n",
              "45080           1.0       1  \n",
              "45081           0.0       1  \n",
              "45082           1.0       0  \n",
              "45083           0.0       0  \n",
              "\n",
              "[45084 rows x 64 columns]"
            ],
            "text/html": [
              "\n",
              "  <div id=\"df-64a7e6b5-a55a-415d-8297-72510fef06ca\">\n",
              "    <div class=\"colab-df-container\">\n",
              "      <div>\n",
              "<style scoped>\n",
              "    .dataframe tbody tr th:only-of-type {\n",
              "        vertical-align: middle;\n",
              "    }\n",
              "\n",
              "    .dataframe tbody tr th {\n",
              "        vertical-align: top;\n",
              "    }\n",
              "\n",
              "    .dataframe thead th {\n",
              "        text-align: right;\n",
              "    }\n",
              "</style>\n",
              "<table border=\"1\" class=\"dataframe\">\n",
              "  <thead>\n",
              "    <tr style=\"text-align: right;\">\n",
              "      <th></th>\n",
              "      <th>age</th>\n",
              "      <th>balance</th>\n",
              "      <th>duration</th>\n",
              "      <th>campaign</th>\n",
              "      <th>previous</th>\n",
              "      <th>out_age</th>\n",
              "      <th>out_balance</th>\n",
              "      <th>out_duration</th>\n",
              "      <th>out_campaign</th>\n",
              "      <th>out_previous</th>\n",
              "      <th>...</th>\n",
              "      <th>pdays_cat_250/300</th>\n",
              "      <th>pdays_cat_300/350</th>\n",
              "      <th>pdays_cat_350/400</th>\n",
              "      <th>pdays_cat_400/450</th>\n",
              "      <th>pdays_cat_450/500</th>\n",
              "      <th>pdays_cat_50/100</th>\n",
              "      <th>pdays_cat_500/550</th>\n",
              "      <th>pdays_cat_&gt;550</th>\n",
              "      <th>pdays_cat_nc</th>\n",
              "      <th>TARGET</th>\n",
              "    </tr>\n",
              "  </thead>\n",
              "  <tbody>\n",
              "    <tr>\n",
              "      <th>0</th>\n",
              "      <td>0.519481</td>\n",
              "      <td>0.092259</td>\n",
              "      <td>0.053070</td>\n",
              "      <td>0.000000</td>\n",
              "      <td>0.000000</td>\n",
              "      <td>0</td>\n",
              "      <td>0</td>\n",
              "      <td>0</td>\n",
              "      <td>0</td>\n",
              "      <td>0</td>\n",
              "      <td>...</td>\n",
              "      <td>0.0</td>\n",
              "      <td>0.0</td>\n",
              "      <td>0.0</td>\n",
              "      <td>0.0</td>\n",
              "      <td>0.0</td>\n",
              "      <td>0.0</td>\n",
              "      <td>0.0</td>\n",
              "      <td>0.0</td>\n",
              "      <td>1.0</td>\n",
              "      <td>0</td>\n",
              "    </tr>\n",
              "    <tr>\n",
              "      <th>1</th>\n",
              "      <td>0.337662</td>\n",
              "      <td>0.073067</td>\n",
              "      <td>0.030704</td>\n",
              "      <td>0.000000</td>\n",
              "      <td>0.000000</td>\n",
              "      <td>0</td>\n",
              "      <td>0</td>\n",
              "      <td>0</td>\n",
              "      <td>0</td>\n",
              "      <td>0</td>\n",
              "      <td>...</td>\n",
              "      <td>0.0</td>\n",
              "      <td>0.0</td>\n",
              "      <td>0.0</td>\n",
              "      <td>0.0</td>\n",
              "      <td>0.0</td>\n",
              "      <td>0.0</td>\n",
              "      <td>0.0</td>\n",
              "      <td>0.0</td>\n",
              "      <td>1.0</td>\n",
              "      <td>0</td>\n",
              "    </tr>\n",
              "    <tr>\n",
              "      <th>2</th>\n",
              "      <td>0.194805</td>\n",
              "      <td>0.072822</td>\n",
              "      <td>0.015453</td>\n",
              "      <td>0.000000</td>\n",
              "      <td>0.000000</td>\n",
              "      <td>0</td>\n",
              "      <td>0</td>\n",
              "      <td>0</td>\n",
              "      <td>0</td>\n",
              "      <td>0</td>\n",
              "      <td>...</td>\n",
              "      <td>0.0</td>\n",
              "      <td>0.0</td>\n",
              "      <td>0.0</td>\n",
              "      <td>0.0</td>\n",
              "      <td>0.0</td>\n",
              "      <td>0.0</td>\n",
              "      <td>0.0</td>\n",
              "      <td>0.0</td>\n",
              "      <td>1.0</td>\n",
              "      <td>0</td>\n",
              "    </tr>\n",
              "    <tr>\n",
              "      <th>3</th>\n",
              "      <td>0.376623</td>\n",
              "      <td>0.086476</td>\n",
              "      <td>0.018707</td>\n",
              "      <td>0.000000</td>\n",
              "      <td>0.000000</td>\n",
              "      <td>0</td>\n",
              "      <td>0</td>\n",
              "      <td>0</td>\n",
              "      <td>0</td>\n",
              "      <td>0</td>\n",
              "      <td>...</td>\n",
              "      <td>0.0</td>\n",
              "      <td>0.0</td>\n",
              "      <td>0.0</td>\n",
              "      <td>0.0</td>\n",
              "      <td>0.0</td>\n",
              "      <td>0.0</td>\n",
              "      <td>0.0</td>\n",
              "      <td>0.0</td>\n",
              "      <td>1.0</td>\n",
              "      <td>0</td>\n",
              "    </tr>\n",
              "    <tr>\n",
              "      <th>4</th>\n",
              "      <td>0.220779</td>\n",
              "      <td>0.074901</td>\n",
              "      <td>0.028264</td>\n",
              "      <td>0.000000</td>\n",
              "      <td>0.000000</td>\n",
              "      <td>0</td>\n",
              "      <td>0</td>\n",
              "      <td>0</td>\n",
              "      <td>0</td>\n",
              "      <td>0</td>\n",
              "      <td>...</td>\n",
              "      <td>0.0</td>\n",
              "      <td>0.0</td>\n",
              "      <td>0.0</td>\n",
              "      <td>0.0</td>\n",
              "      <td>0.0</td>\n",
              "      <td>0.0</td>\n",
              "      <td>0.0</td>\n",
              "      <td>0.0</td>\n",
              "      <td>1.0</td>\n",
              "      <td>0</td>\n",
              "    </tr>\n",
              "    <tr>\n",
              "      <th>...</th>\n",
              "      <td>...</td>\n",
              "      <td>...</td>\n",
              "      <td>...</td>\n",
              "      <td>...</td>\n",
              "      <td>...</td>\n",
              "      <td>...</td>\n",
              "      <td>...</td>\n",
              "      <td>...</td>\n",
              "      <td>...</td>\n",
              "      <td>...</td>\n",
              "      <td>...</td>\n",
              "      <td>...</td>\n",
              "      <td>...</td>\n",
              "      <td>...</td>\n",
              "      <td>...</td>\n",
              "      <td>...</td>\n",
              "      <td>...</td>\n",
              "      <td>...</td>\n",
              "      <td>...</td>\n",
              "      <td>...</td>\n",
              "      <td>...</td>\n",
              "    </tr>\n",
              "    <tr>\n",
              "      <th>45079</th>\n",
              "      <td>0.428571</td>\n",
              "      <td>0.080293</td>\n",
              "      <td>0.198658</td>\n",
              "      <td>0.032258</td>\n",
              "      <td>0.000000</td>\n",
              "      <td>0</td>\n",
              "      <td>0</td>\n",
              "      <td>1</td>\n",
              "      <td>0</td>\n",
              "      <td>0</td>\n",
              "      <td>...</td>\n",
              "      <td>0.0</td>\n",
              "      <td>0.0</td>\n",
              "      <td>0.0</td>\n",
              "      <td>0.0</td>\n",
              "      <td>0.0</td>\n",
              "      <td>0.0</td>\n",
              "      <td>0.0</td>\n",
              "      <td>0.0</td>\n",
              "      <td>1.0</td>\n",
              "      <td>1</td>\n",
              "    </tr>\n",
              "    <tr>\n",
              "      <th>45080</th>\n",
              "      <td>0.688312</td>\n",
              "      <td>0.088501</td>\n",
              "      <td>0.092721</td>\n",
              "      <td>0.016129</td>\n",
              "      <td>0.000000</td>\n",
              "      <td>1</td>\n",
              "      <td>0</td>\n",
              "      <td>0</td>\n",
              "      <td>0</td>\n",
              "      <td>0</td>\n",
              "      <td>...</td>\n",
              "      <td>0.0</td>\n",
              "      <td>0.0</td>\n",
              "      <td>0.0</td>\n",
              "      <td>0.0</td>\n",
              "      <td>0.0</td>\n",
              "      <td>0.0</td>\n",
              "      <td>0.0</td>\n",
              "      <td>0.0</td>\n",
              "      <td>1.0</td>\n",
              "      <td>1</td>\n",
              "    </tr>\n",
              "    <tr>\n",
              "      <th>45081</th>\n",
              "      <td>0.701299</td>\n",
              "      <td>0.124689</td>\n",
              "      <td>0.229158</td>\n",
              "      <td>0.064516</td>\n",
              "      <td>0.010909</td>\n",
              "      <td>1</td>\n",
              "      <td>1</td>\n",
              "      <td>1</td>\n",
              "      <td>0</td>\n",
              "      <td>1</td>\n",
              "      <td>...</td>\n",
              "      <td>0.0</td>\n",
              "      <td>0.0</td>\n",
              "      <td>0.0</td>\n",
              "      <td>0.0</td>\n",
              "      <td>0.0</td>\n",
              "      <td>0.0</td>\n",
              "      <td>0.0</td>\n",
              "      <td>0.0</td>\n",
              "      <td>0.0</td>\n",
              "      <td>1</td>\n",
              "    </tr>\n",
              "    <tr>\n",
              "      <th>45082</th>\n",
              "      <td>0.506494</td>\n",
              "      <td>0.078868</td>\n",
              "      <td>0.103294</td>\n",
              "      <td>0.048387</td>\n",
              "      <td>0.000000</td>\n",
              "      <td>0</td>\n",
              "      <td>0</td>\n",
              "      <td>0</td>\n",
              "      <td>0</td>\n",
              "      <td>0</td>\n",
              "      <td>...</td>\n",
              "      <td>0.0</td>\n",
              "      <td>0.0</td>\n",
              "      <td>0.0</td>\n",
              "      <td>0.0</td>\n",
              "      <td>0.0</td>\n",
              "      <td>0.0</td>\n",
              "      <td>0.0</td>\n",
              "      <td>0.0</td>\n",
              "      <td>1.0</td>\n",
              "      <td>0</td>\n",
              "    </tr>\n",
              "    <tr>\n",
              "      <th>45083</th>\n",
              "      <td>0.246753</td>\n",
              "      <td>0.099777</td>\n",
              "      <td>0.073404</td>\n",
              "      <td>0.016129</td>\n",
              "      <td>0.040000</td>\n",
              "      <td>0</td>\n",
              "      <td>0</td>\n",
              "      <td>0</td>\n",
              "      <td>0</td>\n",
              "      <td>1</td>\n",
              "      <td>...</td>\n",
              "      <td>0.0</td>\n",
              "      <td>0.0</td>\n",
              "      <td>0.0</td>\n",
              "      <td>0.0</td>\n",
              "      <td>0.0</td>\n",
              "      <td>0.0</td>\n",
              "      <td>0.0</td>\n",
              "      <td>0.0</td>\n",
              "      <td>0.0</td>\n",
              "      <td>0</td>\n",
              "    </tr>\n",
              "  </tbody>\n",
              "</table>\n",
              "<p>45084 rows × 64 columns</p>\n",
              "</div>\n",
              "      <button class=\"colab-df-convert\" onclick=\"convertToInteractive('df-64a7e6b5-a55a-415d-8297-72510fef06ca')\"\n",
              "              title=\"Convert this dataframe to an interactive table.\"\n",
              "              style=\"display:none;\">\n",
              "        \n",
              "  <svg xmlns=\"http://www.w3.org/2000/svg\" height=\"24px\"viewBox=\"0 0 24 24\"\n",
              "       width=\"24px\">\n",
              "    <path d=\"M0 0h24v24H0V0z\" fill=\"none\"/>\n",
              "    <path d=\"M18.56 5.44l.94 2.06.94-2.06 2.06-.94-2.06-.94-.94-2.06-.94 2.06-2.06.94zm-11 1L8.5 8.5l.94-2.06 2.06-.94-2.06-.94L8.5 2.5l-.94 2.06-2.06.94zm10 10l.94 2.06.94-2.06 2.06-.94-2.06-.94-.94-2.06-.94 2.06-2.06.94z\"/><path d=\"M17.41 7.96l-1.37-1.37c-.4-.4-.92-.59-1.43-.59-.52 0-1.04.2-1.43.59L10.3 9.45l-7.72 7.72c-.78.78-.78 2.05 0 2.83L4 21.41c.39.39.9.59 1.41.59.51 0 1.02-.2 1.41-.59l7.78-7.78 2.81-2.81c.8-.78.8-2.07 0-2.86zM5.41 20L4 18.59l7.72-7.72 1.47 1.35L5.41 20z\"/>\n",
              "  </svg>\n",
              "      </button>\n",
              "      \n",
              "  <style>\n",
              "    .colab-df-container {\n",
              "      display:flex;\n",
              "      flex-wrap:wrap;\n",
              "      gap: 12px;\n",
              "    }\n",
              "\n",
              "    .colab-df-convert {\n",
              "      background-color: #E8F0FE;\n",
              "      border: none;\n",
              "      border-radius: 50%;\n",
              "      cursor: pointer;\n",
              "      display: none;\n",
              "      fill: #1967D2;\n",
              "      height: 32px;\n",
              "      padding: 0 0 0 0;\n",
              "      width: 32px;\n",
              "    }\n",
              "\n",
              "    .colab-df-convert:hover {\n",
              "      background-color: #E2EBFA;\n",
              "      box-shadow: 0px 1px 2px rgba(60, 64, 67, 0.3), 0px 1px 3px 1px rgba(60, 64, 67, 0.15);\n",
              "      fill: #174EA6;\n",
              "    }\n",
              "\n",
              "    [theme=dark] .colab-df-convert {\n",
              "      background-color: #3B4455;\n",
              "      fill: #D2E3FC;\n",
              "    }\n",
              "\n",
              "    [theme=dark] .colab-df-convert:hover {\n",
              "      background-color: #434B5C;\n",
              "      box-shadow: 0px 1px 3px 1px rgba(0, 0, 0, 0.15);\n",
              "      filter: drop-shadow(0px 1px 2px rgba(0, 0, 0, 0.3));\n",
              "      fill: #FFFFFF;\n",
              "    }\n",
              "  </style>\n",
              "\n",
              "      <script>\n",
              "        const buttonEl =\n",
              "          document.querySelector('#df-64a7e6b5-a55a-415d-8297-72510fef06ca button.colab-df-convert');\n",
              "        buttonEl.style.display =\n",
              "          google.colab.kernel.accessAllowed ? 'block' : 'none';\n",
              "\n",
              "        async function convertToInteractive(key) {\n",
              "          const element = document.querySelector('#df-64a7e6b5-a55a-415d-8297-72510fef06ca');\n",
              "          const dataTable =\n",
              "            await google.colab.kernel.invokeFunction('convertToInteractive',\n",
              "                                                     [key], {});\n",
              "          if (!dataTable) return;\n",
              "\n",
              "          const docLinkHtml = 'Like what you see? Visit the ' +\n",
              "            '<a target=\"_blank\" href=https://colab.research.google.com/notebooks/data_table.ipynb>data table notebook</a>'\n",
              "            + ' to learn more about interactive tables.';\n",
              "          element.innerHTML = '';\n",
              "          dataTable['output_type'] = 'display_data';\n",
              "          await google.colab.output.renderOutput(dataTable, element);\n",
              "          const docLink = document.createElement('div');\n",
              "          docLink.innerHTML = docLinkHtml;\n",
              "          element.appendChild(docLink);\n",
              "        }\n",
              "      </script>\n",
              "    </div>\n",
              "  </div>\n",
              "  "
            ]
          },
          "metadata": {},
          "execution_count": 99
        }
      ],
      "source": [
        "train"
      ]
    },
    {
      "cell_type": "code",
      "execution_count": 100,
      "metadata": {
        "colab": {
          "base_uri": "https://localhost:8080/"
        },
        "id": "S8qEOh1mk1Jw",
        "outputId": "8d2fb64e-a85a-4216-af51-3a7c6eedebfe"
      },
      "outputs": [
        {
          "output_type": "execute_result",
          "data": {
            "text/plain": [
              "0    39813\n",
              "1    39813\n",
              "Name: TARGET, dtype: int64"
            ]
          },
          "metadata": {},
          "execution_count": 100
        }
      ],
      "source": [
        "# Data Augmentantion\n",
        "\n",
        "from imblearn.over_sampling import SMOTE\n",
        "X_train_resampled, Y_train_resampled = SMOTE().fit_resample(train[['age', 'balance', 'duration', 'campaign', 'previous', 'out_age',\n",
        "       'out_balance', 'out_duration', 'out_campaign', 'out_previous',\n",
        "       'contact_was_missing', 'education_was_missing', 'job_was_missing',\n",
        "       'job_admin.', 'job_blue-collar', 'job_entrepreneur', 'job_housemaid',\n",
        "       'job_management', 'job_retired', 'job_self-employed', 'job_services',\n",
        "       'job_student', 'job_technician', 'job_unemployed', 'marital_divorced',\n",
        "       'marital_married', 'marital_single', 'education_primary',\n",
        "       'education_secondary', 'education_tertiary', 'default_no',\n",
        "       'default_yes', 'housing_no', 'housing_yes', 'loan_no', 'loan_yes',\n",
        "       'contact_cellular', 'contact_telephone', 'month_apr', 'month_aug',\n",
        "       'month_dec', 'month_feb', 'month_jan', 'month_jul', 'month_jun',\n",
        "       'month_mar', 'month_may', 'month_nov', 'month_oct', 'month_sep',\n",
        "       'pdays_cat_0/50', 'pdays_cat_100/150', 'pdays_cat_150/200',\n",
        "       'pdays_cat_200/250', 'pdays_cat_250/300', 'pdays_cat_300/350',\n",
        "       'pdays_cat_350/400', 'pdays_cat_400/450', 'pdays_cat_450/500',\n",
        "       'pdays_cat_50/100', 'pdays_cat_500/550', 'pdays_cat_>550', 'pdays_cat_nc']], train['TARGET'])\n",
        "\n",
        "Y_train_resampled.value_counts()"
      ]
    },
    {
      "cell_type": "code",
      "execution_count": 101,
      "metadata": {
        "colab": {
          "base_uri": "https://localhost:8080/"
        },
        "id": "9_yn4MOZk9BV",
        "outputId": "1ee45b3a-c238-49ee-8a78-f25cda148681"
      },
      "outputs": [
        {
          "output_type": "stream",
          "name": "stdout",
          "text": [
            "(79626, 63)\n",
            "(79626,)\n"
          ]
        }
      ],
      "source": [
        "print(X_train_resampled.shape)\n",
        "print(Y_train_resampled.shape)"
      ]
    },
    {
      "cell_type": "code",
      "execution_count": 102,
      "metadata": {
        "colab": {
          "base_uri": "https://localhost:8080/"
        },
        "id": "V6qPjp5Yk-UY",
        "outputId": "b119e8a4-4ad5-462c-dd40-9685933350c2"
      },
      "outputs": [
        {
          "output_type": "stream",
          "name": "stdout",
          "text": [
            "(4506, 63)\n",
            "(4506,)\n"
          ]
        }
      ],
      "source": [
        "print(X_test.shape)\n",
        "print(Y_test.shape)"
      ]
    },
    {
      "cell_type": "markdown",
      "metadata": {
        "id": "IR72XIi4lNdd"
      },
      "source": [
        "Cross Validation after SMOTE"
      ]
    },
    {
      "cell_type": "code",
      "execution_count": 103,
      "metadata": {
        "id": "-vjYE10WlQCg",
        "colab": {
          "base_uri": "https://localhost:8080/"
        },
        "outputId": "ca1fecd7-4856-4635-c242-8e17698d4c64"
      },
      "outputs": [
        {
          "output_type": "stream",
          "name": "stdout",
          "text": [
            "Model: LogisticRegression(solver='liblinear')\n",
            "CV mean: 0.780\n",
            "Model: SVC(gamma='auto')\n",
            "CV mean: 0.723\n",
            "Model: RandomForestClassifier()\n",
            "CV mean: 0.872\n"
          ]
        }
      ],
      "source": [
        "for model in models:\n",
        "    model_train(model, X_train_resampled,Y_train_resampled)"
      ]
    },
    {
      "cell_type": "code",
      "execution_count": 104,
      "metadata": {
        "id": "oqSFrvRgd2lT"
      },
      "outputs": [],
      "source": [
        "from sklearn.metrics import accuracy_score, precision_score, recall_score, confusion_matrix, roc_curve, f1_score, roc_auc_score\n",
        "\n",
        "def eval(model,X_train,y_train,X_test,Y_test):\n",
        "    \n",
        "    #print(model)\n",
        "    \n",
        "    # Training\n",
        "    model.fit(X_train,y_train)\n",
        "\n",
        "    # Predicting based in X_test\n",
        "    y_pred = model.predict(X_test)\n",
        "\n",
        "    # Model Evaluating\n",
        "        \n",
        "    tn, fp, fn, tp = confusion_matrix(Y_test, y_pred).ravel()   \n",
        "\n",
        "    Accuracy = round(accuracy_score(Y_test, y_pred),3)\n",
        "\n",
        "    Precision = round(precision_score(Y_test, y_pred),3)\n",
        "\n",
        "    Recall= round(recall_score(Y_test, y_pred),3)\n",
        "\n",
        "    F1=  round(f1_score(Y_test, y_pred),3)    \n",
        "    \n",
        "    ROC_AUC=  round(roc_auc_score(Y_test, y_pred),3)\n",
        "    \n",
        "    dict={'TN':tn, 'FP':fp, 'FN':fn, 'TP':tp, 'Ac':Accuracy, 'Pc':Precision, 'Rcll':Recall, 'F1':F1, 'roc_auc':ROC_AUC}\n",
        "           \n",
        "    return(dict)"
      ]
    },
    {
      "cell_type": "code",
      "execution_count": 105,
      "metadata": {
        "id": "HEq_FpfWelcT",
        "colab": {
          "base_uri": "https://localhost:8080/"
        },
        "outputId": "c08312da-69c3-4a3a-a271-8816d8cf689e"
      },
      "outputs": [
        {
          "output_type": "stream",
          "name": "stdout",
          "text": [
            "LogisticRegression(solver='liblinear')\n",
            "Before SMOTE: {'TN': 3880, 'FP': 108, 'FN': 367, 'TP': 151, 'Ac': 0.895, 'Pc': 0.583, 'Rcll': 0.292, 'F1': 0.389, 'roc_auc': 0.632}\n",
            "After SMOTE: {'TN': 3359, 'FP': 629, 'FN': 101, 'TP': 417, 'Ac': 0.838, 'Pc': 0.399, 'Rcll': 0.805, 'F1': 0.533, 'roc_auc': 0.824}\n",
            "SVC(gamma='auto')\n",
            "Before SMOTE: {'TN': 3888, 'FP': 100, 'FN': 382, 'TP': 136, 'Ac': 0.893, 'Pc': 0.576, 'Rcll': 0.263, 'F1': 0.361, 'roc_auc': 0.619}\n",
            "After SMOTE: {'TN': 3453, 'FP': 535, 'FN': 117, 'TP': 401, 'Ac': 0.855, 'Pc': 0.428, 'Rcll': 0.774, 'F1': 0.552, 'roc_auc': 0.82}\n",
            "RandomForestClassifier()\n",
            "Before SMOTE: {'TN': 3988, 'FP': 0, 'FN': 16, 'TP': 502, 'Ac': 0.996, 'Pc': 1.0, 'Rcll': 0.969, 'F1': 0.984, 'roc_auc': 0.985}\n",
            "After SMOTE: {'TN': 3982, 'FP': 6, 'FN': 3, 'TP': 515, 'Ac': 0.998, 'Pc': 0.988, 'Rcll': 0.994, 'F1': 0.991, 'roc_auc': 0.996}\n"
          ]
        }
      ],
      "source": [
        "for m in models:\n",
        "  print(m)\n",
        "  print(\"Before SMOTE:\",eval(m,X_train,Y_train,X_test,Y_test))\n",
        "  print(\"After SMOTE:\",eval(m, X_train_resampled, Y_train_resampled,X_test,Y_test))"
      ]
    },
    {
      "cell_type": "code",
      "execution_count": 106,
      "metadata": {
        "id": "1kojXOnrdDM5"
      },
      "outputs": [],
      "source": [
        "# import matplotlib.pyplot as plt\n",
        "\n",
        "# for m in models:\n",
        "\n",
        "#     When = ['Before SMOTE','After SMOTE']\n",
        "\n",
        "#     TN= [eval(m,X_train,Y_train,X_test,Y_test)['TN'], eval(m, X_train_resampled, Y_train_resampled,X_test,Y_test)['TN']]\n",
        "#     FP= [eval(m,X_train,Y_train,X_test,Y_test)['FP'], eval(m, X_train_resampled, Y_train_resampled,X_test,Y_test)['FP']]\n",
        "#     FN= [eval(m,X_train,Y_train,X_test,Y_test)['FN'], eval(m, X_train_resampled, Y_train_resampled,X_test,Y_test)['FN']]\n",
        "#     TP= [eval(m,X_train,Y_train,X_test,Y_test)['TP'], eval(m, X_train_resampled, Y_train_resampled,X_test,Y_test)['TP']]\n",
        "  \n",
        "#     plt.figure(figsize=(10, 10))\n",
        "#     plt.plot(When, TN, color='red', marker='o')\n",
        "#     plt.plot(When, FP, color='blue', marker='x')\n",
        "#     plt.plot(When, FN, color='green', marker='8')\n",
        "#     plt.plot(When, TP, color='black', marker='s')\n",
        "\n",
        "#     plt.title(m, fontsize=15)\n",
        "#     plt.xlabel('When', fontsize=15)\n",
        "#     plt.ylabel('Values', fontsize=15)\n",
        "#     plt.legend(['TN', 'FP','FN','TP'], fontsize=15)\n",
        "#     plt.show()\n",
        "\n",
        "\n",
        "#     When = ['Before SMOTE','After SMOTE']\n",
        "\n",
        "#     AC= [eval(m,X_train,Y_train,X_test,Y_test)['Ac'], eval(m, X_train_resampled, Y_train_resampled,X_test,Y_test)['Ac']]\n",
        "#     PC= [eval(m,X_train,Y_train,X_test,Y_test)['Pc'], eval(m, X_train_resampled, Y_train_resampled,X_test,Y_test)['Pc']]\n",
        "#     RCLL= [eval(m,X_train,Y_train,X_test,Y_test)['Rcll'], eval(m, X_train_resampled, Y_train_resampled,X_test,Y_test)['Rcll']]\n",
        "#     F1= [eval(m,X_train,Y_train,X_test,Y_test)['F1'], eval(m, X_train_resampled, Y_train_resampled,X_test,Y_test)['F1']]\n",
        "#     ROC_AUC= [eval(m,X_train,Y_train,X_test,Y_test)['roc_auc'], eval(m, X_train_resampled, Y_train_resampled,X_test,Y_test)['roc_auc']]\n",
        "  \n",
        "#     plt.figure(figsize=(10, 10))\n",
        "#     plt.plot(When, AC, color='red', marker='o')\n",
        "#     plt.plot(When, PC, color='blue', marker='x')\n",
        "#     plt.plot(When, RCLL, color='green', marker='8')\n",
        "#     plt.plot(When, F1, color='black', marker='s')\n",
        "#     plt.plot(When, ROC_AUC, color='orange', marker='p')\n",
        "\n",
        "#     plt.title(m, fontsize=15)\n",
        "#     plt.xlabel('When', fontsize=15)\n",
        "#     plt.ylabel('Metric Score', fontsize=15)\n",
        "#     plt.legend(['AC', 'PC','RCLL','F1','ROC_AUC'], fontsize=15)\n",
        "#     plt.show()"
      ]
    }
  ],
  "metadata": {
    "colab": {
      "collapsed_sections": [
        "mHGO5UEu1zB_"
      ],
      "provenance": []
    },
    "kernelspec": {
      "display_name": "Python 3",
      "name": "python3"
    },
    "language_info": {
      "name": "python"
    }
  },
  "nbformat": 4,
  "nbformat_minor": 0
}